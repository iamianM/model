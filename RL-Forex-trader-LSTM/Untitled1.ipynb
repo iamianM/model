{
 "cells": [
  {
   "cell_type": "code",
   "execution_count": 1,
   "id": "5ff00bf6",
   "metadata": {},
   "outputs": [],
   "source": [
    "%load_ext autoreload\n",
    "%autoreload 2"
   ]
  },
  {
   "cell_type": "code",
   "execution_count": 2,
   "id": "b5b4da13",
   "metadata": {},
   "outputs": [],
   "source": [
    "import sys\n",
    "sys.path.append(\".\")"
   ]
  },
  {
   "cell_type": "code",
   "execution_count": 3,
   "id": "3e298dc4",
   "metadata": {},
   "outputs": [
    {
     "name": "stderr",
     "output_type": "stream",
     "text": [
      "Using TensorFlow backend.\n"
     ]
    }
   ],
   "source": [
    "import numpy as np\n",
    "from keras_tqdm import TQDMNotebookCall\n",
    "\n",
    "# import keras\n",
    "from keras.models import Sequential\n",
    "from keras.layers import Dense, Activation, Flatten, CuDNNLSTM,LSTM\n",
    "from keras.optimizers import Adam\n",
    "\n",
    "# keras-rl agent\n",
    "from rl.agents.dqn import DQNAgent\n",
    "from rl.policy import BoltzmannQPolicy, EpsGreedyQPolicy\n",
    "from rl.memory import SequentialMemory\n",
    "\n",
    "# trader environment\n",
    "from TraderEnv import OhlcvEnv\n",
    "# custom normalizer\n",
    "from util import NormalizerProcessor"
   ]
  },
  {
   "cell_type": "code",
   "execution_count": 4,
   "id": "d2479162",
   "metadata": {},
   "outputs": [],
   "source": [
    "from tempfile import mkstemp\n",
    "from shutil import move, copymode, copy\n",
    "from os import fdopen, remove\n",
    "\n",
    "def replace(file_path, pattern, subst):\n",
    "    #Create temp file\n",
    "    fh, abs_path = mkstemp()\n",
    "    with fdopen(fh,'w') as new_file:\n",
    "        with open(file_path) as old_file:\n",
    "            for line in old_file:\n",
    "                new_file.write(line.replace(pattern, subst))\n",
    "    #Copy the file permissions from the old file to the new file\n",
    "    copymode(file_path, abs_path)\n",
    "    #Remove original file\n",
    "    remove(file_path)\n",
    "    #Move new file\n",
    "    move(abs_path, file_path)\n",
    "\n",
    "def replace_all(file_path, new_file_path):\n",
    "    #Copy the file permissions from the old file to the new file\n",
    "    copy(new_file_path, file_path)"
   ]
  },
  {
   "cell_type": "code",
   "execution_count": 5,
   "id": "ccf35729",
   "metadata": {},
   "outputs": [],
   "source": [
    "# replace_all(\"/opt/miniconda3/lib/python3.6/site-packages/rl/agents/dqn.py\", \"rl/agents/dqn.py\")"
   ]
  },
  {
   "cell_type": "code",
   "execution_count": 6,
   "id": "bb548248",
   "metadata": {},
   "outputs": [],
   "source": [
    "replace_all(\"/opt/miniconda3/lib/python3.6/site-packages/rl/core.py\", \"rl/core.py\")"
   ]
  },
  {
   "cell_type": "code",
   "execution_count": 7,
   "id": "7a7a2337",
   "metadata": {},
   "outputs": [],
   "source": [
    "def create_model(shape, nb_actions):\n",
    "    model = Sequential()\n",
    "    model.add(LSTM(64, input_shape=shape, return_sequences=True))\n",
    "    model.add(LSTM(64))\n",
    "    model.add(Dense(32))\n",
    "    model.add(Activation('relu'))\n",
    "    model.add(Dense(nb_actions, activation='linear'))\n",
    "    return model"
   ]
  },
  {
   "cell_type": "code",
   "execution_count": null,
   "id": "7f791012",
   "metadata": {},
   "outputs": [
    {
     "name": "stdout",
     "output_type": "stream",
     "text": [
      "WARNING:tensorflow:From /opt/miniconda3/lib/python3.6/site-packages/tensorflow_core/python/ops/resource_variable_ops.py:1630: calling BaseResourceVariable.__init__ (from tensorflow.python.ops.resource_variable_ops) with constraint is deprecated and will be removed in a future version.\n",
      "Instructions for updating:\n",
      "If using Keras pass *_constraint arguments to layers.\n",
      "Model: \"sequential_1\"\n",
      "_________________________________________________________________\n",
      "Layer (type)                 Output Shape              Param #   \n",
      "=================================================================\n",
      "lstm_1 (LSTM)                (None, 30, 64)            36864     \n",
      "_________________________________________________________________\n",
      "lstm_2 (LSTM)                (None, 64)                33024     \n",
      "_________________________________________________________________\n",
      "dense_1 (Dense)              (None, 32)                2080      \n",
      "_________________________________________________________________\n",
      "activation_1 (Activation)    (None, 32)                0         \n",
      "_________________________________________________________________\n",
      "dense_2 (Dense)              (None, 3)                 99        \n",
      "=================================================================\n",
      "Total params: 72,067\n",
      "Trainable params: 72,067\n",
      "Non-trainable params: 0\n",
      "_________________________________________________________________\n",
      "None\n",
      "Training for 800000 steps ...\n",
      "start episode ... 1 at 0\n",
      "Interval 1 (0 steps performed)\n",
      "WARNING:tensorflow:From /opt/miniconda3/lib/python3.6/site-packages/keras/backend/tensorflow_backend.py:422: The name tf.global_variables is deprecated. Please use tf.compat.v1.global_variables instead.\n",
      "\n",
      "10000/10000 [==============================] - 1587s 159ms/step - reward: -9.9144e-05\n",
      "Interval 2 (10000 steps performed)\n",
      " 9852/10000 [============================>.] - ETA: 40s - reward: -6.1495e-05"
     ]
    }
   ],
   "source": [
    "# OPTIONS\n",
    "ENV_NAME = 'OHLCV-v0'\n",
    "TIME_STEP = 30\n",
    "\n",
    "# Get the environment and extract the number of actions.\n",
    "PATH_TRAIN = \"./data/train/\"\n",
    "PATH_TEST = \"./data/test/\"\n",
    "env = OhlcvEnv(TIME_STEP, path=PATH_TRAIN, show_trade=False)\n",
    "env_test = OhlcvEnv(TIME_STEP, path=PATH_TEST)\n",
    "\n",
    "# random seed\n",
    "np.random.seed(456)\n",
    "env.seed(562)\n",
    "\n",
    "nb_actions = env.action_space.n\n",
    "model = create_model(shape=env.shape, nb_actions=nb_actions)\n",
    "print(model.summary())\n",
    "\n",
    "# Finally, we configure and compile our agent. You can use every built-in Keras optimizer and even the metrics!\n",
    "memory = SequentialMemory(limit=50000, window_length=TIME_STEP)\n",
    "# policy = BoltzmannQPolicy()\n",
    "policy = EpsGreedyQPolicy()\n",
    "# enable the dueling network\n",
    "# you can specify the dueling_type to one of {'avg','max','naive'}-+\n",
    "dqn = DQNAgent(model=model, nb_actions=nb_actions, memory=memory, nb_steps_warmup=200,\n",
    "               enable_dueling_network=True, dueling_type='avg', target_model_update=1e-2, policy=policy,\n",
    "               processor=NormalizerProcessor())\n",
    "dqn.compile(Adam(lr=1e-3), metrics=['mae'])\n",
    "\n",
    "while True:\n",
    "    # train\n",
    "#     dqn.load_weights('./model/duel__LSTM_dqn_OHLCV-v0_weights_1044LS_0_19_0.04339342066576202.h5f')\n",
    "    dqn.fit(env, nb_steps=800000, nb_max_episode_steps=None, visualize=False, verbose=1)\n",
    "    # validate\n",
    "    info = dqn.test(env_test, nb_episodes=1, visualize=True)\n",
    "    n_long, n_short, total_reward, portfolio = info['n_trades']['long'], info['n_trades']['short'], info[\n",
    "        'total_reward'], int(info['portfolio'])\n",
    "    np.array([info]).dump(\n",
    "        './info/duel_dqn_{0}_weights_{1}LS_{2}_{3}_{4}.info'.format(ENV_NAME, portfolio, n_long, n_short,\n",
    "                                                                total_reward))\n",
    "    dqn.save_weights(\n",
    "        './model/duel__LSTM_dqn_{0}_weights_{1}LS_{2}_{3}_{4}.h5f'.format(ENV_NAME, portfolio, n_long, n_short, total_reward),\n",
    "        overwrite=True)"
   ]
  },
  {
   "cell_type": "code",
   "execution_count": null,
   "id": "297629de",
   "metadata": {},
   "outputs": [],
   "source": []
  }
 ],
 "metadata": {
  "kernelspec": {
   "display_name": "Python 3",
   "language": "python",
   "name": "python3"
  },
  "language_info": {
   "codemirror_mode": {
    "name": "ipython",
    "version": 3
   },
   "file_extension": ".py",
   "mimetype": "text/x-python",
   "name": "python",
   "nbconvert_exporter": "python",
   "pygments_lexer": "ipython3",
   "version": "3.6.8"
  }
 },
 "nbformat": 4,
 "nbformat_minor": 5
}
