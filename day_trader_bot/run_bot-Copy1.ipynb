{
 "cells": [
  {
   "cell_type": "code",
   "execution_count": 1,
   "id": "instant-craps",
   "metadata": {},
   "outputs": [],
   "source": [
    "from WebullBot import WebullBot\n",
    "import torch\n",
    "from concurrent.futures import ThreadPoolExecutor\n",
    "import json"
   ]
  },
  {
   "cell_type": "code",
   "execution_count": 2,
   "id": "assumed-vampire",
   "metadata": {
    "scrolled": true
   },
   "outputs": [
    {
     "data": {
      "text/plain": [
       "('GeForce GTX 1070 Ti', True)"
      ]
     },
     "execution_count": 2,
     "metadata": {},
     "output_type": "execute_result"
    }
   ],
   "source": [
    "torch.cuda.get_device_name(0), torch.cuda.is_available()"
   ]
  },
  {
   "cell_type": "code",
   "execution_count": 3,
   "id": "generic-algeria",
   "metadata": {},
   "outputs": [
    {
     "name": "stdout",
     "output_type": "stream",
     "text": [
      "GeForce GTX 1070 Ti True\n"
     ]
    },
    {
     "ename": "ConnectionError",
     "evalue": "HTTPSConnectionPool(host='userapi.webull.com', port=443): Max retries exceeded with url: /api/passport/login/v5/account (Caused by NewConnectionError('<urllib3.connection.HTTPSConnection object at 0x000001D6AF746B48>: Failed to establish a new connection: [Errno 11001] getaddrinfo failed'))",
     "output_type": "error",
     "traceback": [
      "\u001b[1;31m---------------------------------------------------------------------------\u001b[0m",
      "\u001b[1;31mgaierror\u001b[0m                                  Traceback (most recent call last)",
      "\u001b[1;32mc:\\users\\mcian\\appdata\\local\\programs\\python\\python37\\lib\\site-packages\\urllib3\\connection.py\u001b[0m in \u001b[0;36m_new_conn\u001b[1;34m(self)\u001b[0m\n\u001b[0;32m    169\u001b[0m             conn = connection.create_connection(\n\u001b[1;32m--> 170\u001b[1;33m                 \u001b[1;33m(\u001b[0m\u001b[0mself\u001b[0m\u001b[1;33m.\u001b[0m\u001b[0m_dns_host\u001b[0m\u001b[1;33m,\u001b[0m \u001b[0mself\u001b[0m\u001b[1;33m.\u001b[0m\u001b[0mport\u001b[0m\u001b[1;33m)\u001b[0m\u001b[1;33m,\u001b[0m \u001b[0mself\u001b[0m\u001b[1;33m.\u001b[0m\u001b[0mtimeout\u001b[0m\u001b[1;33m,\u001b[0m \u001b[1;33m**\u001b[0m\u001b[0mextra_kw\u001b[0m\u001b[1;33m\u001b[0m\u001b[1;33m\u001b[0m\u001b[0m\n\u001b[0m\u001b[0;32m    171\u001b[0m             )\n",
      "\u001b[1;32mc:\\users\\mcian\\appdata\\local\\programs\\python\\python37\\lib\\site-packages\\urllib3\\util\\connection.py\u001b[0m in \u001b[0;36mcreate_connection\u001b[1;34m(address, timeout, source_address, socket_options)\u001b[0m\n\u001b[0;32m     72\u001b[0m \u001b[1;33m\u001b[0m\u001b[0m\n\u001b[1;32m---> 73\u001b[1;33m     \u001b[1;32mfor\u001b[0m \u001b[0mres\u001b[0m \u001b[1;32min\u001b[0m \u001b[0msocket\u001b[0m\u001b[1;33m.\u001b[0m\u001b[0mgetaddrinfo\u001b[0m\u001b[1;33m(\u001b[0m\u001b[0mhost\u001b[0m\u001b[1;33m,\u001b[0m \u001b[0mport\u001b[0m\u001b[1;33m,\u001b[0m \u001b[0mfamily\u001b[0m\u001b[1;33m,\u001b[0m \u001b[0msocket\u001b[0m\u001b[1;33m.\u001b[0m\u001b[0mSOCK_STREAM\u001b[0m\u001b[1;33m)\u001b[0m\u001b[1;33m:\u001b[0m\u001b[1;33m\u001b[0m\u001b[1;33m\u001b[0m\u001b[0m\n\u001b[0m\u001b[0;32m     74\u001b[0m         \u001b[0maf\u001b[0m\u001b[1;33m,\u001b[0m \u001b[0msocktype\u001b[0m\u001b[1;33m,\u001b[0m \u001b[0mproto\u001b[0m\u001b[1;33m,\u001b[0m \u001b[0mcanonname\u001b[0m\u001b[1;33m,\u001b[0m \u001b[0msa\u001b[0m \u001b[1;33m=\u001b[0m \u001b[0mres\u001b[0m\u001b[1;33m\u001b[0m\u001b[1;33m\u001b[0m\u001b[0m\n",
      "\u001b[1;32mc:\\users\\mcian\\appdata\\local\\programs\\python\\python37\\lib\\socket.py\u001b[0m in \u001b[0;36mgetaddrinfo\u001b[1;34m(host, port, family, type, proto, flags)\u001b[0m\n\u001b[0;32m    747\u001b[0m     \u001b[0maddrlist\u001b[0m \u001b[1;33m=\u001b[0m \u001b[1;33m[\u001b[0m\u001b[1;33m]\u001b[0m\u001b[1;33m\u001b[0m\u001b[1;33m\u001b[0m\u001b[0m\n\u001b[1;32m--> 748\u001b[1;33m     \u001b[1;32mfor\u001b[0m \u001b[0mres\u001b[0m \u001b[1;32min\u001b[0m \u001b[0m_socket\u001b[0m\u001b[1;33m.\u001b[0m\u001b[0mgetaddrinfo\u001b[0m\u001b[1;33m(\u001b[0m\u001b[0mhost\u001b[0m\u001b[1;33m,\u001b[0m \u001b[0mport\u001b[0m\u001b[1;33m,\u001b[0m \u001b[0mfamily\u001b[0m\u001b[1;33m,\u001b[0m \u001b[0mtype\u001b[0m\u001b[1;33m,\u001b[0m \u001b[0mproto\u001b[0m\u001b[1;33m,\u001b[0m \u001b[0mflags\u001b[0m\u001b[1;33m)\u001b[0m\u001b[1;33m:\u001b[0m\u001b[1;33m\u001b[0m\u001b[1;33m\u001b[0m\u001b[0m\n\u001b[0m\u001b[0;32m    749\u001b[0m         \u001b[0maf\u001b[0m\u001b[1;33m,\u001b[0m \u001b[0msocktype\u001b[0m\u001b[1;33m,\u001b[0m \u001b[0mproto\u001b[0m\u001b[1;33m,\u001b[0m \u001b[0mcanonname\u001b[0m\u001b[1;33m,\u001b[0m \u001b[0msa\u001b[0m \u001b[1;33m=\u001b[0m \u001b[0mres\u001b[0m\u001b[1;33m\u001b[0m\u001b[1;33m\u001b[0m\u001b[0m\n",
      "\u001b[1;31mgaierror\u001b[0m: [Errno 11001] getaddrinfo failed",
      "\nDuring handling of the above exception, another exception occurred:\n",
      "\u001b[1;31mNewConnectionError\u001b[0m                        Traceback (most recent call last)",
      "\u001b[1;32mc:\\users\\mcian\\appdata\\local\\programs\\python\\python37\\lib\\site-packages\\urllib3\\connectionpool.py\u001b[0m in \u001b[0;36murlopen\u001b[1;34m(self, method, url, body, headers, retries, redirect, assert_same_host, timeout, pool_timeout, release_conn, chunked, body_pos, **response_kw)\u001b[0m\n\u001b[0;32m    705\u001b[0m                 \u001b[0mheaders\u001b[0m\u001b[1;33m=\u001b[0m\u001b[0mheaders\u001b[0m\u001b[1;33m,\u001b[0m\u001b[1;33m\u001b[0m\u001b[1;33m\u001b[0m\u001b[0m\n\u001b[1;32m--> 706\u001b[1;33m                 \u001b[0mchunked\u001b[0m\u001b[1;33m=\u001b[0m\u001b[0mchunked\u001b[0m\u001b[1;33m,\u001b[0m\u001b[1;33m\u001b[0m\u001b[1;33m\u001b[0m\u001b[0m\n\u001b[0m\u001b[0;32m    707\u001b[0m             )\n",
      "\u001b[1;32mc:\\users\\mcian\\appdata\\local\\programs\\python\\python37\\lib\\site-packages\\urllib3\\connectionpool.py\u001b[0m in \u001b[0;36m_make_request\u001b[1;34m(self, conn, method, url, timeout, chunked, **httplib_request_kw)\u001b[0m\n\u001b[0;32m    381\u001b[0m         \u001b[1;32mtry\u001b[0m\u001b[1;33m:\u001b[0m\u001b[1;33m\u001b[0m\u001b[1;33m\u001b[0m\u001b[0m\n\u001b[1;32m--> 382\u001b[1;33m             \u001b[0mself\u001b[0m\u001b[1;33m.\u001b[0m\u001b[0m_validate_conn\u001b[0m\u001b[1;33m(\u001b[0m\u001b[0mconn\u001b[0m\u001b[1;33m)\u001b[0m\u001b[1;33m\u001b[0m\u001b[1;33m\u001b[0m\u001b[0m\n\u001b[0m\u001b[0;32m    383\u001b[0m         \u001b[1;32mexcept\u001b[0m \u001b[1;33m(\u001b[0m\u001b[0mSocketTimeout\u001b[0m\u001b[1;33m,\u001b[0m \u001b[0mBaseSSLError\u001b[0m\u001b[1;33m)\u001b[0m \u001b[1;32mas\u001b[0m \u001b[0me\u001b[0m\u001b[1;33m:\u001b[0m\u001b[1;33m\u001b[0m\u001b[1;33m\u001b[0m\u001b[0m\n",
      "\u001b[1;32mc:\\users\\mcian\\appdata\\local\\programs\\python\\python37\\lib\\site-packages\\urllib3\\connectionpool.py\u001b[0m in \u001b[0;36m_validate_conn\u001b[1;34m(self, conn)\u001b[0m\n\u001b[0;32m   1009\u001b[0m         \u001b[1;32mif\u001b[0m \u001b[1;32mnot\u001b[0m \u001b[0mgetattr\u001b[0m\u001b[1;33m(\u001b[0m\u001b[0mconn\u001b[0m\u001b[1;33m,\u001b[0m \u001b[1;34m\"sock\"\u001b[0m\u001b[1;33m,\u001b[0m \u001b[1;32mNone\u001b[0m\u001b[1;33m)\u001b[0m\u001b[1;33m:\u001b[0m  \u001b[1;31m# AppEngine might not have  `.sock`\u001b[0m\u001b[1;33m\u001b[0m\u001b[1;33m\u001b[0m\u001b[0m\n\u001b[1;32m-> 1010\u001b[1;33m             \u001b[0mconn\u001b[0m\u001b[1;33m.\u001b[0m\u001b[0mconnect\u001b[0m\u001b[1;33m(\u001b[0m\u001b[1;33m)\u001b[0m\u001b[1;33m\u001b[0m\u001b[1;33m\u001b[0m\u001b[0m\n\u001b[0m\u001b[0;32m   1011\u001b[0m \u001b[1;33m\u001b[0m\u001b[0m\n",
      "\u001b[1;32mc:\\users\\mcian\\appdata\\local\\programs\\python\\python37\\lib\\site-packages\\urllib3\\connection.py\u001b[0m in \u001b[0;36mconnect\u001b[1;34m(self)\u001b[0m\n\u001b[0;32m    352\u001b[0m         \u001b[1;31m# Add certificate verification\u001b[0m\u001b[1;33m\u001b[0m\u001b[1;33m\u001b[0m\u001b[1;33m\u001b[0m\u001b[0m\n\u001b[1;32m--> 353\u001b[1;33m         \u001b[0mconn\u001b[0m \u001b[1;33m=\u001b[0m \u001b[0mself\u001b[0m\u001b[1;33m.\u001b[0m\u001b[0m_new_conn\u001b[0m\u001b[1;33m(\u001b[0m\u001b[1;33m)\u001b[0m\u001b[1;33m\u001b[0m\u001b[1;33m\u001b[0m\u001b[0m\n\u001b[0m\u001b[0;32m    354\u001b[0m         \u001b[0mhostname\u001b[0m \u001b[1;33m=\u001b[0m \u001b[0mself\u001b[0m\u001b[1;33m.\u001b[0m\u001b[0mhost\u001b[0m\u001b[1;33m\u001b[0m\u001b[1;33m\u001b[0m\u001b[0m\n",
      "\u001b[1;32mc:\\users\\mcian\\appdata\\local\\programs\\python\\python37\\lib\\site-packages\\urllib3\\connection.py\u001b[0m in \u001b[0;36m_new_conn\u001b[1;34m(self)\u001b[0m\n\u001b[0;32m    181\u001b[0m             raise NewConnectionError(\n\u001b[1;32m--> 182\u001b[1;33m                 \u001b[0mself\u001b[0m\u001b[1;33m,\u001b[0m \u001b[1;34m\"Failed to establish a new connection: %s\"\u001b[0m \u001b[1;33m%\u001b[0m \u001b[0me\u001b[0m\u001b[1;33m\u001b[0m\u001b[1;33m\u001b[0m\u001b[0m\n\u001b[0m\u001b[0;32m    183\u001b[0m             )\n",
      "\u001b[1;31mNewConnectionError\u001b[0m: <urllib3.connection.HTTPSConnection object at 0x000001D6AF746B48>: Failed to establish a new connection: [Errno 11001] getaddrinfo failed",
      "\nDuring handling of the above exception, another exception occurred:\n",
      "\u001b[1;31mMaxRetryError\u001b[0m                             Traceback (most recent call last)",
      "\u001b[1;32mc:\\users\\mcian\\appdata\\local\\programs\\python\\python37\\lib\\site-packages\\requests\\adapters.py\u001b[0m in \u001b[0;36msend\u001b[1;34m(self, request, stream, timeout, verify, cert, proxies)\u001b[0m\n\u001b[0;32m    448\u001b[0m                     \u001b[0mretries\u001b[0m\u001b[1;33m=\u001b[0m\u001b[0mself\u001b[0m\u001b[1;33m.\u001b[0m\u001b[0mmax_retries\u001b[0m\u001b[1;33m,\u001b[0m\u001b[1;33m\u001b[0m\u001b[1;33m\u001b[0m\u001b[0m\n\u001b[1;32m--> 449\u001b[1;33m                     \u001b[0mtimeout\u001b[0m\u001b[1;33m=\u001b[0m\u001b[0mtimeout\u001b[0m\u001b[1;33m\u001b[0m\u001b[1;33m\u001b[0m\u001b[0m\n\u001b[0m\u001b[0;32m    450\u001b[0m                 )\n",
      "\u001b[1;32mc:\\users\\mcian\\appdata\\local\\programs\\python\\python37\\lib\\site-packages\\urllib3\\connectionpool.py\u001b[0m in \u001b[0;36murlopen\u001b[1;34m(self, method, url, body, headers, retries, redirect, assert_same_host, timeout, pool_timeout, release_conn, chunked, body_pos, **response_kw)\u001b[0m\n\u001b[0;32m    755\u001b[0m             retries = retries.increment(\n\u001b[1;32m--> 756\u001b[1;33m                 \u001b[0mmethod\u001b[0m\u001b[1;33m,\u001b[0m \u001b[0murl\u001b[0m\u001b[1;33m,\u001b[0m \u001b[0merror\u001b[0m\u001b[1;33m=\u001b[0m\u001b[0me\u001b[0m\u001b[1;33m,\u001b[0m \u001b[0m_pool\u001b[0m\u001b[1;33m=\u001b[0m\u001b[0mself\u001b[0m\u001b[1;33m,\u001b[0m \u001b[0m_stacktrace\u001b[0m\u001b[1;33m=\u001b[0m\u001b[0msys\u001b[0m\u001b[1;33m.\u001b[0m\u001b[0mexc_info\u001b[0m\u001b[1;33m(\u001b[0m\u001b[1;33m)\u001b[0m\u001b[1;33m[\u001b[0m\u001b[1;36m2\u001b[0m\u001b[1;33m]\u001b[0m\u001b[1;33m\u001b[0m\u001b[1;33m\u001b[0m\u001b[0m\n\u001b[0m\u001b[0;32m    757\u001b[0m             )\n",
      "\u001b[1;32mc:\\users\\mcian\\appdata\\local\\programs\\python\\python37\\lib\\site-packages\\urllib3\\util\\retry.py\u001b[0m in \u001b[0;36mincrement\u001b[1;34m(self, method, url, response, error, _pool, _stacktrace)\u001b[0m\n\u001b[0;32m    572\u001b[0m         \u001b[1;32mif\u001b[0m \u001b[0mnew_retry\u001b[0m\u001b[1;33m.\u001b[0m\u001b[0mis_exhausted\u001b[0m\u001b[1;33m(\u001b[0m\u001b[1;33m)\u001b[0m\u001b[1;33m:\u001b[0m\u001b[1;33m\u001b[0m\u001b[1;33m\u001b[0m\u001b[0m\n\u001b[1;32m--> 573\u001b[1;33m             \u001b[1;32mraise\u001b[0m \u001b[0mMaxRetryError\u001b[0m\u001b[1;33m(\u001b[0m\u001b[0m_pool\u001b[0m\u001b[1;33m,\u001b[0m \u001b[0murl\u001b[0m\u001b[1;33m,\u001b[0m \u001b[0merror\u001b[0m \u001b[1;32mor\u001b[0m \u001b[0mResponseError\u001b[0m\u001b[1;33m(\u001b[0m\u001b[0mcause\u001b[0m\u001b[1;33m)\u001b[0m\u001b[1;33m)\u001b[0m\u001b[1;33m\u001b[0m\u001b[1;33m\u001b[0m\u001b[0m\n\u001b[0m\u001b[0;32m    574\u001b[0m \u001b[1;33m\u001b[0m\u001b[0m\n",
      "\u001b[1;31mMaxRetryError\u001b[0m: HTTPSConnectionPool(host='userapi.webull.com', port=443): Max retries exceeded with url: /api/passport/login/v5/account (Caused by NewConnectionError('<urllib3.connection.HTTPSConnection object at 0x000001D6AF746B48>: Failed to establish a new connection: [Errno 11001] getaddrinfo failed'))",
      "\nDuring handling of the above exception, another exception occurred:\n",
      "\u001b[1;31mConnectionError\u001b[0m                           Traceback (most recent call last)",
      "\u001b[1;32m<ipython-input-3-faff43da231f>\u001b[0m in \u001b[0;36m<module>\u001b[1;34m\u001b[0m\n\u001b[0;32m      1\u001b[0m \u001b[0mtp\u001b[0m \u001b[1;33m=\u001b[0m \u001b[0mThreadPoolExecutor\u001b[0m\u001b[1;33m(\u001b[0m\u001b[1;36m10\u001b[0m\u001b[1;33m)\u001b[0m  \u001b[1;31m# max 10 threads\u001b[0m\u001b[1;33m\u001b[0m\u001b[1;33m\u001b[0m\u001b[0m\n\u001b[0;32m      2\u001b[0m \u001b[0mprint\u001b[0m\u001b[1;33m(\u001b[0m\u001b[0mtorch\u001b[0m\u001b[1;33m.\u001b[0m\u001b[0mcuda\u001b[0m\u001b[1;33m.\u001b[0m\u001b[0mget_device_name\u001b[0m\u001b[1;33m(\u001b[0m\u001b[1;36m0\u001b[0m\u001b[1;33m)\u001b[0m\u001b[1;33m,\u001b[0m \u001b[0mtorch\u001b[0m\u001b[1;33m.\u001b[0m\u001b[0mcuda\u001b[0m\u001b[1;33m.\u001b[0m\u001b[0mis_available\u001b[0m\u001b[1;33m(\u001b[0m\u001b[1;33m)\u001b[0m\u001b[1;33m)\u001b[0m\u001b[1;33m\u001b[0m\u001b[1;33m\u001b[0m\u001b[0m\n\u001b[1;32m----> 3\u001b[1;33m \u001b[0mbot\u001b[0m \u001b[1;33m=\u001b[0m \u001b[0mWebullBot\u001b[0m\u001b[1;33m(\u001b[0m\u001b[0mcreds\u001b[0m\u001b[1;33m=\u001b[0m\u001b[0mjson\u001b[0m\u001b[1;33m.\u001b[0m\u001b[0mload\u001b[0m\u001b[1;33m(\u001b[0m\u001b[0mopen\u001b[0m\u001b[1;33m(\u001b[0m\u001b[1;34m'creds.json'\u001b[0m\u001b[1;33m)\u001b[0m\u001b[1;33m)\u001b[0m\u001b[1;33m,\u001b[0m \u001b[0mmodel_file\u001b[0m\u001b[1;33m=\u001b[0m\u001b[1;34m'./dukascopy/model_res50.pth'\u001b[0m\u001b[1;33m)\u001b[0m\u001b[1;33m\u001b[0m\u001b[1;33m\u001b[0m\u001b[0m\n\u001b[0m",
      "\u001b[1;32m~\\Downloads\\day_trader_bot\\WebullBot.py\u001b[0m in \u001b[0;36m__init__\u001b[1;34m(self, creds, model_file, symbols, use_mfa)\u001b[0m\n\u001b[0;32m     79\u001b[0m         \u001b[0mself\u001b[0m\u001b[1;33m.\u001b[0m\u001b[0mwb\u001b[0m \u001b[1;33m=\u001b[0m \u001b[0mpaper_webull\u001b[0m\u001b[1;33m(\u001b[0m\u001b[1;33m)\u001b[0m\u001b[1;33m\u001b[0m\u001b[1;33m\u001b[0m\u001b[0m\n\u001b[0;32m     80\u001b[0m         \u001b[0mself\u001b[0m\u001b[1;33m.\u001b[0m\u001b[0mmodel_res\u001b[0m \u001b[1;33m=\u001b[0m \u001b[0mload_model\u001b[0m\u001b[1;33m(\u001b[0m\u001b[0mmodel_file\u001b[0m\u001b[1;33m)\u001b[0m\u001b[1;33m\u001b[0m\u001b[1;33m\u001b[0m\u001b[0m\n\u001b[1;32m---> 81\u001b[1;33m         \u001b[0mself\u001b[0m\u001b[1;33m.\u001b[0m\u001b[0mlogin_info\u001b[0m \u001b[1;33m=\u001b[0m \u001b[0mself\u001b[0m\u001b[1;33m.\u001b[0m\u001b[0mlogin_webull\u001b[0m\u001b[1;33m(\u001b[0m\u001b[0mcreds\u001b[0m\u001b[1;33m)\u001b[0m\u001b[1;33m\u001b[0m\u001b[1;33m\u001b[0m\u001b[0m\n\u001b[0m\u001b[0;32m     82\u001b[0m         \u001b[0mself\u001b[0m\u001b[1;33m.\u001b[0m\u001b[0mentered_trades\u001b[0m \u001b[1;33m=\u001b[0m \u001b[1;33m{\u001b[0m\u001b[1;33m}\u001b[0m\u001b[1;33m\u001b[0m\u001b[1;33m\u001b[0m\u001b[0m\n\u001b[0;32m     83\u001b[0m         \u001b[1;32mfor\u001b[0m \u001b[0morder\u001b[0m \u001b[1;32min\u001b[0m \u001b[0mself\u001b[0m\u001b[1;33m.\u001b[0m\u001b[0mwb\u001b[0m\u001b[1;33m.\u001b[0m\u001b[0mget_account\u001b[0m\u001b[1;33m(\u001b[0m\u001b[1;33m)\u001b[0m\u001b[1;33m[\u001b[0m\u001b[1;34m'positions'\u001b[0m\u001b[1;33m]\u001b[0m\u001b[1;33m:\u001b[0m\u001b[1;33m\u001b[0m\u001b[1;33m\u001b[0m\u001b[0m\n",
      "\u001b[1;32m~\\Downloads\\day_trader_bot\\WebullBot.py\u001b[0m in \u001b[0;36mlogin_webull\u001b[1;34m(self, creds)\u001b[0m\n\u001b[0;32m     99\u001b[0m             \u001b[0mlogin_info\u001b[0m \u001b[1;33m=\u001b[0m \u001b[0mself\u001b[0m\u001b[1;33m.\u001b[0m\u001b[0mwb\u001b[0m\u001b[1;33m.\u001b[0m\u001b[0mlogin\u001b[0m\u001b[1;33m(\u001b[0m\u001b[0mcreds\u001b[0m\u001b[1;33m[\u001b[0m\u001b[1;34m'email'\u001b[0m\u001b[1;33m]\u001b[0m\u001b[1;33m,\u001b[0m \u001b[0mcreds\u001b[0m\u001b[1;33m[\u001b[0m\u001b[1;34m'password'\u001b[0m\u001b[1;33m]\u001b[0m\u001b[1;33m,\u001b[0m \u001b[1;34m'My Device'\u001b[0m\u001b[1;33m,\u001b[0m \u001b[0mself\u001b[0m\u001b[1;33m.\u001b[0m\u001b[0mmfa_code\u001b[0m\u001b[1;33m)\u001b[0m\u001b[1;33m\u001b[0m\u001b[1;33m\u001b[0m\u001b[0m\n\u001b[0;32m    100\u001b[0m         \u001b[1;32melse\u001b[0m\u001b[1;33m:\u001b[0m\u001b[1;33m\u001b[0m\u001b[1;33m\u001b[0m\u001b[0m\n\u001b[1;32m--> 101\u001b[1;33m             \u001b[0mlogin_info\u001b[0m \u001b[1;33m=\u001b[0m \u001b[0mself\u001b[0m\u001b[1;33m.\u001b[0m\u001b[0mwb\u001b[0m\u001b[1;33m.\u001b[0m\u001b[0mlogin\u001b[0m\u001b[1;33m(\u001b[0m\u001b[0mcreds\u001b[0m\u001b[1;33m[\u001b[0m\u001b[1;34m'email'\u001b[0m\u001b[1;33m]\u001b[0m\u001b[1;33m,\u001b[0m \u001b[0mcreds\u001b[0m\u001b[1;33m[\u001b[0m\u001b[1;34m'password'\u001b[0m\u001b[1;33m]\u001b[0m\u001b[1;33m)\u001b[0m\u001b[1;33m\u001b[0m\u001b[1;33m\u001b[0m\u001b[0m\n\u001b[0m\u001b[0;32m    102\u001b[0m \u001b[1;33m\u001b[0m\u001b[0m\n\u001b[0;32m    103\u001b[0m         \u001b[1;32mreturn\u001b[0m \u001b[0mlogin_info\u001b[0m\u001b[1;33m\u001b[0m\u001b[1;33m\u001b[0m\u001b[0m\n",
      "\u001b[1;32mc:\\users\\mcian\\appdata\\local\\programs\\python\\python37\\lib\\site-packages\\webull\\webull.py\u001b[0m in \u001b[0;36mlogin\u001b[1;34m(self, username, password, device_name, mfa, question_id, question_answer)\u001b[0m\n\u001b[0;32m    123\u001b[0m         \u001b[1;32melse\u001b[0m \u001b[1;33m:\u001b[0m\u001b[1;33m\u001b[0m\u001b[1;33m\u001b[0m\u001b[0m\n\u001b[0;32m    124\u001b[0m             \u001b[0mheaders\u001b[0m \u001b[1;33m=\u001b[0m \u001b[0mself\u001b[0m\u001b[1;33m.\u001b[0m\u001b[0m_headers\u001b[0m\u001b[1;33m\u001b[0m\u001b[1;33m\u001b[0m\u001b[0m\n\u001b[1;32m--> 125\u001b[1;33m         \u001b[0mresponse\u001b[0m \u001b[1;33m=\u001b[0m \u001b[0mrequests\u001b[0m\u001b[1;33m.\u001b[0m\u001b[0mpost\u001b[0m\u001b[1;33m(\u001b[0m\u001b[0mself\u001b[0m\u001b[1;33m.\u001b[0m\u001b[0m_urls\u001b[0m\u001b[1;33m.\u001b[0m\u001b[0mlogin\u001b[0m\u001b[1;33m(\u001b[0m\u001b[1;33m)\u001b[0m\u001b[1;33m,\u001b[0m \u001b[0mjson\u001b[0m\u001b[1;33m=\u001b[0m\u001b[0mdata\u001b[0m\u001b[1;33m,\u001b[0m \u001b[0mheaders\u001b[0m\u001b[1;33m=\u001b[0m\u001b[0mheaders\u001b[0m\u001b[1;33m)\u001b[0m\u001b[1;33m\u001b[0m\u001b[1;33m\u001b[0m\u001b[0m\n\u001b[0m\u001b[0;32m    126\u001b[0m         \u001b[0mresult\u001b[0m \u001b[1;33m=\u001b[0m \u001b[0mresponse\u001b[0m\u001b[1;33m.\u001b[0m\u001b[0mjson\u001b[0m\u001b[1;33m(\u001b[0m\u001b[1;33m)\u001b[0m\u001b[1;33m\u001b[0m\u001b[1;33m\u001b[0m\u001b[0m\n\u001b[0;32m    127\u001b[0m         \u001b[1;32mif\u001b[0m \u001b[1;34m'accessToken'\u001b[0m \u001b[1;32min\u001b[0m \u001b[0mresult\u001b[0m \u001b[1;33m:\u001b[0m\u001b[1;33m\u001b[0m\u001b[1;33m\u001b[0m\u001b[0m\n",
      "\u001b[1;32mc:\\users\\mcian\\appdata\\local\\programs\\python\\python37\\lib\\site-packages\\requests\\api.py\u001b[0m in \u001b[0;36mpost\u001b[1;34m(url, data, json, **kwargs)\u001b[0m\n\u001b[0;32m    117\u001b[0m     \"\"\"\n\u001b[0;32m    118\u001b[0m \u001b[1;33m\u001b[0m\u001b[0m\n\u001b[1;32m--> 119\u001b[1;33m     \u001b[1;32mreturn\u001b[0m \u001b[0mrequest\u001b[0m\u001b[1;33m(\u001b[0m\u001b[1;34m'post'\u001b[0m\u001b[1;33m,\u001b[0m \u001b[0murl\u001b[0m\u001b[1;33m,\u001b[0m \u001b[0mdata\u001b[0m\u001b[1;33m=\u001b[0m\u001b[0mdata\u001b[0m\u001b[1;33m,\u001b[0m \u001b[0mjson\u001b[0m\u001b[1;33m=\u001b[0m\u001b[0mjson\u001b[0m\u001b[1;33m,\u001b[0m \u001b[1;33m**\u001b[0m\u001b[0mkwargs\u001b[0m\u001b[1;33m)\u001b[0m\u001b[1;33m\u001b[0m\u001b[1;33m\u001b[0m\u001b[0m\n\u001b[0m\u001b[0;32m    120\u001b[0m \u001b[1;33m\u001b[0m\u001b[0m\n\u001b[0;32m    121\u001b[0m \u001b[1;33m\u001b[0m\u001b[0m\n",
      "\u001b[1;32mc:\\users\\mcian\\appdata\\local\\programs\\python\\python37\\lib\\site-packages\\requests\\api.py\u001b[0m in \u001b[0;36mrequest\u001b[1;34m(method, url, **kwargs)\u001b[0m\n\u001b[0;32m     59\u001b[0m     \u001b[1;31m# cases, and look like a memory leak in others.\u001b[0m\u001b[1;33m\u001b[0m\u001b[1;33m\u001b[0m\u001b[1;33m\u001b[0m\u001b[0m\n\u001b[0;32m     60\u001b[0m     \u001b[1;32mwith\u001b[0m \u001b[0msessions\u001b[0m\u001b[1;33m.\u001b[0m\u001b[0mSession\u001b[0m\u001b[1;33m(\u001b[0m\u001b[1;33m)\u001b[0m \u001b[1;32mas\u001b[0m \u001b[0msession\u001b[0m\u001b[1;33m:\u001b[0m\u001b[1;33m\u001b[0m\u001b[1;33m\u001b[0m\u001b[0m\n\u001b[1;32m---> 61\u001b[1;33m         \u001b[1;32mreturn\u001b[0m \u001b[0msession\u001b[0m\u001b[1;33m.\u001b[0m\u001b[0mrequest\u001b[0m\u001b[1;33m(\u001b[0m\u001b[0mmethod\u001b[0m\u001b[1;33m=\u001b[0m\u001b[0mmethod\u001b[0m\u001b[1;33m,\u001b[0m \u001b[0murl\u001b[0m\u001b[1;33m=\u001b[0m\u001b[0murl\u001b[0m\u001b[1;33m,\u001b[0m \u001b[1;33m**\u001b[0m\u001b[0mkwargs\u001b[0m\u001b[1;33m)\u001b[0m\u001b[1;33m\u001b[0m\u001b[1;33m\u001b[0m\u001b[0m\n\u001b[0m\u001b[0;32m     62\u001b[0m \u001b[1;33m\u001b[0m\u001b[0m\n\u001b[0;32m     63\u001b[0m \u001b[1;33m\u001b[0m\u001b[0m\n",
      "\u001b[1;32mc:\\users\\mcian\\appdata\\local\\programs\\python\\python37\\lib\\site-packages\\requests\\sessions.py\u001b[0m in \u001b[0;36mrequest\u001b[1;34m(self, method, url, params, data, headers, cookies, files, auth, timeout, allow_redirects, proxies, hooks, stream, verify, cert, json)\u001b[0m\n\u001b[0;32m    540\u001b[0m         }\n\u001b[0;32m    541\u001b[0m         \u001b[0msend_kwargs\u001b[0m\u001b[1;33m.\u001b[0m\u001b[0mupdate\u001b[0m\u001b[1;33m(\u001b[0m\u001b[0msettings\u001b[0m\u001b[1;33m)\u001b[0m\u001b[1;33m\u001b[0m\u001b[1;33m\u001b[0m\u001b[0m\n\u001b[1;32m--> 542\u001b[1;33m         \u001b[0mresp\u001b[0m \u001b[1;33m=\u001b[0m \u001b[0mself\u001b[0m\u001b[1;33m.\u001b[0m\u001b[0msend\u001b[0m\u001b[1;33m(\u001b[0m\u001b[0mprep\u001b[0m\u001b[1;33m,\u001b[0m \u001b[1;33m**\u001b[0m\u001b[0msend_kwargs\u001b[0m\u001b[1;33m)\u001b[0m\u001b[1;33m\u001b[0m\u001b[1;33m\u001b[0m\u001b[0m\n\u001b[0m\u001b[0;32m    543\u001b[0m \u001b[1;33m\u001b[0m\u001b[0m\n\u001b[0;32m    544\u001b[0m         \u001b[1;32mreturn\u001b[0m \u001b[0mresp\u001b[0m\u001b[1;33m\u001b[0m\u001b[1;33m\u001b[0m\u001b[0m\n",
      "\u001b[1;32mc:\\users\\mcian\\appdata\\local\\programs\\python\\python37\\lib\\site-packages\\requests\\sessions.py\u001b[0m in \u001b[0;36msend\u001b[1;34m(self, request, **kwargs)\u001b[0m\n\u001b[0;32m    653\u001b[0m \u001b[1;33m\u001b[0m\u001b[0m\n\u001b[0;32m    654\u001b[0m         \u001b[1;31m# Send the request\u001b[0m\u001b[1;33m\u001b[0m\u001b[1;33m\u001b[0m\u001b[1;33m\u001b[0m\u001b[0m\n\u001b[1;32m--> 655\u001b[1;33m         \u001b[0mr\u001b[0m \u001b[1;33m=\u001b[0m \u001b[0madapter\u001b[0m\u001b[1;33m.\u001b[0m\u001b[0msend\u001b[0m\u001b[1;33m(\u001b[0m\u001b[0mrequest\u001b[0m\u001b[1;33m,\u001b[0m \u001b[1;33m**\u001b[0m\u001b[0mkwargs\u001b[0m\u001b[1;33m)\u001b[0m\u001b[1;33m\u001b[0m\u001b[1;33m\u001b[0m\u001b[0m\n\u001b[0m\u001b[0;32m    656\u001b[0m \u001b[1;33m\u001b[0m\u001b[0m\n\u001b[0;32m    657\u001b[0m         \u001b[1;31m# Total elapsed time of the request (approximately)\u001b[0m\u001b[1;33m\u001b[0m\u001b[1;33m\u001b[0m\u001b[1;33m\u001b[0m\u001b[0m\n",
      "\u001b[1;32mc:\\users\\mcian\\appdata\\local\\programs\\python\\python37\\lib\\site-packages\\requests\\adapters.py\u001b[0m in \u001b[0;36msend\u001b[1;34m(self, request, stream, timeout, verify, cert, proxies)\u001b[0m\n\u001b[0;32m    514\u001b[0m                 \u001b[1;32mraise\u001b[0m \u001b[0mSSLError\u001b[0m\u001b[1;33m(\u001b[0m\u001b[0me\u001b[0m\u001b[1;33m,\u001b[0m \u001b[0mrequest\u001b[0m\u001b[1;33m=\u001b[0m\u001b[0mrequest\u001b[0m\u001b[1;33m)\u001b[0m\u001b[1;33m\u001b[0m\u001b[1;33m\u001b[0m\u001b[0m\n\u001b[0;32m    515\u001b[0m \u001b[1;33m\u001b[0m\u001b[0m\n\u001b[1;32m--> 516\u001b[1;33m             \u001b[1;32mraise\u001b[0m \u001b[0mConnectionError\u001b[0m\u001b[1;33m(\u001b[0m\u001b[0me\u001b[0m\u001b[1;33m,\u001b[0m \u001b[0mrequest\u001b[0m\u001b[1;33m=\u001b[0m\u001b[0mrequest\u001b[0m\u001b[1;33m)\u001b[0m\u001b[1;33m\u001b[0m\u001b[1;33m\u001b[0m\u001b[0m\n\u001b[0m\u001b[0;32m    517\u001b[0m \u001b[1;33m\u001b[0m\u001b[0m\n\u001b[0;32m    518\u001b[0m         \u001b[1;32mexcept\u001b[0m \u001b[0mClosedPoolError\u001b[0m \u001b[1;32mas\u001b[0m \u001b[0me\u001b[0m\u001b[1;33m:\u001b[0m\u001b[1;33m\u001b[0m\u001b[1;33m\u001b[0m\u001b[0m\n",
      "\u001b[1;31mConnectionError\u001b[0m: HTTPSConnectionPool(host='userapi.webull.com', port=443): Max retries exceeded with url: /api/passport/login/v5/account (Caused by NewConnectionError('<urllib3.connection.HTTPSConnection object at 0x000001D6AF746B48>: Failed to establish a new connection: [Errno 11001] getaddrinfo failed'))"
     ]
    }
   ],
   "source": [
    "tp = ThreadPoolExecutor(10)  # max 10 threads\n",
    "print(torch.cuda.get_device_name(0), torch.cuda.is_available())\n",
    "bot = WebullBot(creds=json.load(open('creds.json')), model_file='./dukascopy/model_res50.pth')"
   ]
  },
  {
   "cell_type": "code",
   "execution_count": 7,
   "id": "republican-yacht",
   "metadata": {},
   "outputs": [
    {
     "data": {
      "text/plain": [
       "{'extInfo': {'userPwdFlag': '1'},\n",
       " 'accessToken': 'dc_us1.177fe2b84ee-540542e9879a441e8eb9352a3b506015',\n",
       " 'uuid': '1774989196deb863da569a54ed889ebd0db5568a469',\n",
       " 'refreshToken': '177fe2b84ee-516d43461e1b41c7bf632f405156a0d1',\n",
       " 'tokenExpireTime': '2021-05-03T16:56:40.942+0000',\n",
       " 'firstTimeOfThird': False,\n",
       " 'registerAddress': 6,\n",
       " 'settings': {'id': 408527421533675520,\n",
       "  'userId': 305867657,\n",
       "  'regionId': 6,\n",
       "  'language': 'en',\n",
       "  'focusMarketId': '2,3,4,5,6,14',\n",
       "  'theme': 2,\n",
       "  'increDecreColor': 2,\n",
       "  'fontSize': 'M',\n",
       "  'portfolioDisplayMode': 2,\n",
       "  'portfolioNameNewline': 1,\n",
       "  'portfolioHoldingsDisplay': 1,\n",
       "  'portfolioIndexDisplay': 1,\n",
       "  'portfolioBulletin': 1,\n",
       "  'kdata': 1,\n",
       "  'refreshFrequency': 1,\n",
       "  'shock': 0,\n",
       "  'tickerPriceRemind': 1,\n",
       "  'orderDealRemind': 1,\n",
       "  'hotNews': 1,\n",
       "  'chartOption': 2,\n",
       "  'operateTime': '2021-02-22T10:07:51.000+0000',\n",
       "  'languageUpdateTime': '2021-02-22T10:07:51.000+0000',\n",
       "  'createTime': '2021-01-28T15:07:37.000+0000',\n",
       "  'updateTime': '2021-02-22T18:07:50.000+0000',\n",
       "  'listStyle': 1}}"
      ]
     },
     "execution_count": 7,
     "metadata": {},
     "output_type": "execute_result"
    }
   ],
   "source": [
    "from webull import paper_webull\n",
    "import json\n",
    "creds=json.load(open('creds.json'))\n",
    "wb = paper_webull()\n",
    "wb.login(creds['email'], creds['password'])"
   ]
  },
  {
   "cell_type": "code",
   "execution_count": 11,
   "id": "viral-bookmark",
   "metadata": {},
   "outputs": [],
   "source": [
    "hist = wb.get_bars(stock='TSLA', interval='m1', count=44, extendTrading=0)"
   ]
  },
  {
   "cell_type": "code",
   "execution_count": 14,
   "id": "arbitrary-fiber",
   "metadata": {},
   "outputs": [
    {
     "data": {
      "text/plain": [
       "True"
      ]
     },
     "execution_count": 14,
     "metadata": {},
     "output_type": "execute_result"
    }
   ],
   "source": [
    "hist.iloc[0]['close'] > 30"
   ]
  },
  {
   "cell_type": "code",
   "execution_count": 7,
   "id": "cooperative-aquatic",
   "metadata": {},
   "outputs": [
    {
     "data": {
      "text/plain": [
       "{'accountId': 3970680,\n",
       " 'currency': 'USD',\n",
       " 'currencyId': 247,\n",
       " 'netLiquidation': '1000020.93',\n",
       " 'totalProfitLoss': '20.93',\n",
       " 'totalProfitLossRate': '0.0000',\n",
       " 'accountMembers': [{'key': 'totalMarketValue', 'value': '815.12'},\n",
       "  {'key': 'usableCash', 'value': '999205.81'}],\n",
       " 'accounts': [{'id': 3970680,\n",
       "   'paperId': 1,\n",
       "   'status': 0,\n",
       "   'paperType': 0,\n",
       "   'paperName': 'Paper Trading',\n",
       "   'paperTickerPoolCode': 'wb_week',\n",
       "   'currency': 'USD',\n",
       "   'currencyId': 247,\n",
       "   'supportOutsideRth': True,\n",
       "   'timeInForces': ['DAY', 'GTC'],\n",
       "   'orderTypes': ['MKT', 'LMT']}],\n",
       " 'openOrders': [],\n",
       " 'openOrderSize': 0,\n",
       " 'positions': [{'id': 9327321,\n",
       "   'accountId': 3970680,\n",
       "   'paperId': 1,\n",
       "   'ticker': {'tickerId': 913243249,\n",
       "    'symbol': 'QQQ',\n",
       "    'name': 'Invesco QQQ Trust',\n",
       "    'tinyName': 'Invesco QQQ Trust',\n",
       "    'listStatus': 1,\n",
       "    'exchangeCode': 'NMS',\n",
       "    'exchangeId': 95,\n",
       "    'extType': [],\n",
       "    'type': 3,\n",
       "    'regionId': 6,\n",
       "    'regionName': '美国',\n",
       "    'regionIsoCode': 'US',\n",
       "    'currencyId': 247,\n",
       "    'currencyCode': 'USD',\n",
       "    'secType': [34, 12],\n",
       "    'exchangeTrade': True,\n",
       "    'disExchangeCode': 'NASDAQ',\n",
       "    'disSymbol': 'QQQ'},\n",
       "   'status': 1,\n",
       "   'position': '1',\n",
       "   'cost': '309.55',\n",
       "   'costPrice': '309.550',\n",
       "   'currency': 'USD',\n",
       "   'lastPrice': '310.91',\n",
       "   'marketValue': '310.91',\n",
       "   'unrealizedProfitLoss': '1.36',\n",
       "   'unrealizedProfitLossRate': '0.0044',\n",
       "   'lotSize': 1},\n",
       "  {'id': 9328202,\n",
       "   'accountId': 3970680,\n",
       "   'paperId': 1,\n",
       "   'ticker': {'tickerId': 950151334,\n",
       "    'symbol': 'SRAC',\n",
       "    'name': 'Stable Road Acquisition Corp',\n",
       "    'tinyName': 'Stable Road Acquisition Corp',\n",
       "    'listStatus': 1,\n",
       "    'exchangeCode': 'NAS',\n",
       "    'exchangeId': 10,\n",
       "    'extType': [],\n",
       "    'type': 2,\n",
       "    'regionId': 6,\n",
       "    'regionName': '美国',\n",
       "    'regionIsoCode': 'US',\n",
       "    'currencyId': 247,\n",
       "    'currencyCode': 'USD',\n",
       "    'disExchangeCode': 'NASDAQ',\n",
       "    'disSymbol': 'SRAC'},\n",
       "   'status': 1,\n",
       "   'position': '1',\n",
       "   'cost': '14.24',\n",
       "   'costPrice': '14.240',\n",
       "   'currency': 'USD',\n",
       "   'lastPrice': '14.43',\n",
       "   'marketValue': '14.43',\n",
       "   'unrealizedProfitLoss': '0.19',\n",
       "   'unrealizedProfitLossRate': '0.0133',\n",
       "   'lotSize': 1},\n",
       "  {'id': 9327696,\n",
       "   'accountId': 3970680,\n",
       "   'paperId': 1,\n",
       "   'ticker': {'tickerId': 950178683,\n",
       "    'symbol': 'BTWN',\n",
       "    'name': 'BRIDGETOWN HOLDI',\n",
       "    'tinyName': 'BRIDGETOWN HOLDI',\n",
       "    'listStatus': 1,\n",
       "    'exchangeCode': 'NAS',\n",
       "    'exchangeId': 10,\n",
       "    'extType': [],\n",
       "    'type': 2,\n",
       "    'regionId': 6,\n",
       "    'regionName': '美国',\n",
       "    'regionIsoCode': 'US',\n",
       "    'currencyId': 247,\n",
       "    'currencyCode': 'USD',\n",
       "    'disExchangeCode': 'NASDAQ',\n",
       "    'disSymbol': 'BTWN'},\n",
       "   'status': 1,\n",
       "   'position': '1',\n",
       "   'cost': '11.09',\n",
       "   'costPrice': '11.090',\n",
       "   'currency': 'USD',\n",
       "   'lastPrice': '11.44',\n",
       "   'marketValue': '11.44',\n",
       "   'unrealizedProfitLoss': '0.35',\n",
       "   'unrealizedProfitLossRate': '0.0316',\n",
       "   'lotSize': 1},\n",
       "  {'id': 9327462,\n",
       "   'accountId': 3970680,\n",
       "   'paperId': 1,\n",
       "   'ticker': {'tickerId': 913324336,\n",
       "    'symbol': 'SKT',\n",
       "    'name': 'Tanger Factory',\n",
       "    'tinyName': 'Tanger Factory',\n",
       "    'listStatus': 1,\n",
       "    'exchangeCode': 'NYSE',\n",
       "    'exchangeId': 11,\n",
       "    'extType': [],\n",
       "    'type': 2,\n",
       "    'regionId': 6,\n",
       "    'regionName': '美国',\n",
       "    'regionIsoCode': 'US',\n",
       "    'currencyId': 247,\n",
       "    'currencyCode': 'USD',\n",
       "    'disExchangeCode': 'NYSE',\n",
       "    'disSymbol': 'SKT'},\n",
       "   'status': 1,\n",
       "   'position': '1',\n",
       "   'cost': '19.16',\n",
       "   'costPrice': '19.160',\n",
       "   'currency': 'USD',\n",
       "   'lastPrice': '18.99',\n",
       "   'marketValue': '18.99',\n",
       "   'unrealizedProfitLoss': '-0.17',\n",
       "   'unrealizedProfitLossRate': '-0.0089',\n",
       "   'lotSize': 1},\n",
       "  {'id': 9317217,\n",
       "   'accountId': 3970680,\n",
       "   'paperId': 1,\n",
       "   'ticker': {'tickerId': 950102389,\n",
       "    'symbol': 'NKLA',\n",
       "    'name': 'Nikola Corporation',\n",
       "    'tinyName': 'Nikola Corporation',\n",
       "    'listStatus': 1,\n",
       "    'exchangeCode': 'NSQ',\n",
       "    'exchangeId': 96,\n",
       "    'extType': [],\n",
       "    'type': 2,\n",
       "    'regionId': 6,\n",
       "    'regionName': '美国',\n",
       "    'regionIsoCode': 'US',\n",
       "    'currencyId': 247,\n",
       "    'currencyCode': 'USD',\n",
       "    'disExchangeCode': 'NASDAQ',\n",
       "    'disSymbol': 'NKLA'},\n",
       "   'status': 1,\n",
       "   'position': '1',\n",
       "   'cost': '16.44',\n",
       "   'costPrice': '16.440',\n",
       "   'currency': 'USD',\n",
       "   'lastPrice': '16.33',\n",
       "   'marketValue': '16.33',\n",
       "   'unrealizedProfitLoss': '-0.11',\n",
       "   'unrealizedProfitLossRate': '-0.0067',\n",
       "   'lotSize': 1},\n",
       "  {'id': 9317173,\n",
       "   'accountId': 3970680,\n",
       "   'paperId': 1,\n",
       "   'ticker': {'tickerId': 913324495,\n",
       "    'symbol': 'UPS',\n",
       "    'name': 'UPS',\n",
       "    'tinyName': 'UPS',\n",
       "    'listStatus': 1,\n",
       "    'exchangeCode': 'NYSE',\n",
       "    'exchangeId': 11,\n",
       "    'extType': [],\n",
       "    'type': 2,\n",
       "    'regionId': 6,\n",
       "    'regionName': '美国',\n",
       "    'regionIsoCode': 'US',\n",
       "    'currencyId': 247,\n",
       "    'currencyCode': 'USD',\n",
       "    'disExchangeCode': 'NYSE',\n",
       "    'disSymbol': 'UPS'},\n",
       "   'status': 1,\n",
       "   'position': '1',\n",
       "   'cost': '160.685',\n",
       "   'costPrice': '160.685',\n",
       "   'currency': 'USD',\n",
       "   'lastPrice': '160.63',\n",
       "   'marketValue': '160.63',\n",
       "   'unrealizedProfitLoss': '-0.06',\n",
       "   'unrealizedProfitLossRate': '-0.0003',\n",
       "   'lotSize': 1},\n",
       "  {'id': 9316589,\n",
       "   'accountId': 3970680,\n",
       "   'paperId': 1,\n",
       "   'ticker': {'tickerId': 950056110,\n",
       "    'symbol': 'BJ',\n",
       "    'name': 'BJ’s Wholesale Club Holdings',\n",
       "    'tinyName': 'BJ’s Wholesale Club Holdings',\n",
       "    'listStatus': 1,\n",
       "    'exchangeCode': 'NYSE',\n",
       "    'exchangeId': 11,\n",
       "    'extType': [],\n",
       "    'type': 2,\n",
       "    'regionId': 6,\n",
       "    'regionName': '美国',\n",
       "    'regionIsoCode': 'US',\n",
       "    'currencyId': 247,\n",
       "    'currencyCode': 'USD',\n",
       "    'disExchangeCode': 'NYSE',\n",
       "    'disSymbol': 'BJ'},\n",
       "   'status': 1,\n",
       "   'position': '1',\n",
       "   'cost': '37.9596',\n",
       "   'costPrice': '37.960',\n",
       "   'currency': 'USD',\n",
       "   'lastPrice': '38.34',\n",
       "   'marketValue': '38.34',\n",
       "   'unrealizedProfitLoss': '0.38',\n",
       "   'unrealizedProfitLossRate': '0.0100',\n",
       "   'lotSize': 1},\n",
       "  {'id': 9314077,\n",
       "   'accountId': 3970680,\n",
       "   'paperId': 1,\n",
       "   'ticker': {'tickerId': 950065193,\n",
       "    'symbol': 'BNGO',\n",
       "    'name': 'Bionano Genomics',\n",
       "    'tinyName': 'Bionano Genomics',\n",
       "    'listStatus': 1,\n",
       "    'exchangeCode': 'NAS',\n",
       "    'exchangeId': 10,\n",
       "    'extType': [],\n",
       "    'type': 2,\n",
       "    'regionId': 6,\n",
       "    'regionName': '美国',\n",
       "    'regionIsoCode': 'US',\n",
       "    'currencyId': 247,\n",
       "    'currencyCode': 'USD',\n",
       "    'disExchangeCode': 'NASDAQ',\n",
       "    'disSymbol': 'BNGO'},\n",
       "   'status': 1,\n",
       "   'position': '1',\n",
       "   'cost': '8.03',\n",
       "   'costPrice': '8.030',\n",
       "   'currency': 'USD',\n",
       "   'lastPrice': '7.94',\n",
       "   'marketValue': '7.94',\n",
       "   'unrealizedProfitLoss': '-0.09',\n",
       "   'unrealizedProfitLossRate': '-0.0112',\n",
       "   'lotSize': 1},\n",
       "  {'id': 9314015,\n",
       "   'accountId': 3970680,\n",
       "   'paperId': 1,\n",
       "   'ticker': {'tickerId': 925237190,\n",
       "    'symbol': 'OKTA',\n",
       "    'name': 'Okta',\n",
       "    'tinyName': 'Okta',\n",
       "    'listStatus': 1,\n",
       "    'exchangeCode': 'NSQ',\n",
       "    'exchangeId': 96,\n",
       "    'extType': [],\n",
       "    'type': 2,\n",
       "    'regionId': 6,\n",
       "    'regionName': '美国',\n",
       "    'regionIsoCode': 'US',\n",
       "    'currencyId': 247,\n",
       "    'currencyCode': 'USD',\n",
       "    'disExchangeCode': 'NASDAQ',\n",
       "    'disSymbol': 'OKTA'},\n",
       "   'status': 1,\n",
       "   'position': '1',\n",
       "   'cost': '220.7',\n",
       "   'costPrice': '220.700',\n",
       "   'currency': 'USD',\n",
       "   'lastPrice': '236.11',\n",
       "   'marketValue': '236.11',\n",
       "   'unrealizedProfitLoss': '15.41',\n",
       "   'unrealizedProfitLossRate': '0.0698',\n",
       "   'lotSize': 1}],\n",
       " 'actBaseUrl': 'https://act.webull.com/contentEdit/paperRule.html'}"
      ]
     },
     "execution_count": 7,
     "metadata": {},
     "output_type": "execute_result"
    }
   ],
   "source": [
    "bot.wb.get_account().keys()"
   ]
  },
  {
   "cell_type": "code",
   "execution_count": 7,
   "id": "awful-durham",
   "metadata": {},
   "outputs": [
    {
     "data": {
      "text/plain": [
       "{'SNOW': False,\n",
       " 'SLGG': False,\n",
       " 'PLTR': False,\n",
       " 'GE': False,\n",
       " 'QQQ': False,\n",
       " 'MRVL': False,\n",
       " 'QELL': False,\n",
       " 'PEP': False,\n",
       " 'XL': False,\n",
       " 'SKT': False,\n",
       " 'FUBO': False,\n",
       " 'MSFT': False,\n",
       " 'SPLK': False,\n",
       " 'SPY': False,\n",
       " 'XPEV': False,\n",
       " 'VRM': False,\n",
       " 'KHC': False,\n",
       " 'HII': False,\n",
       " 'ATSG': False,\n",
       " 'ARKK': False,\n",
       " 'GEO': False,\n",
       " 'FND': False,\n",
       " 'SCHW': False,\n",
       " 'CMCSA': False,\n",
       " 'HZON': False,\n",
       " 'RMAX': False}"
      ]
     },
     "execution_count": 7,
     "metadata": {},
     "output_type": "execute_result"
    }
   ],
   "source": [
    "bot.entered_trades"
   ]
  },
  {
   "cell_type": "code",
   "execution_count": 6,
   "id": "included-color",
   "metadata": {},
   "outputs": [
    {
     "name": "stdout",
     "output_type": "stream",
     "text": [
      "OKTA\n",
      "OKTA\n",
      "OKTA\n"
     ]
    }
   ],
   "source": [
    "        for order in bot.wb.get_current_orders():\n",
    "            if order['action'] == 'BUY':\n",
    "                print(order['ticker']['symbol'])"
   ]
  },
  {
   "cell_type": "code",
   "execution_count": null,
   "id": "hired-metabolism",
   "metadata": {},
   "outputs": [],
   "source": []
  },
  {
   "cell_type": "code",
   "execution_count": null,
   "id": "italian-musical",
   "metadata": {
    "scrolled": true
   },
   "outputs": [
    {
     "name": "stderr",
     "output_type": "stream",
     "text": [
      "C:\\Users\\Mcian\\Downloads\\day_trader_bot\\WebullBot.py:122: UserWarning: Implicit dimension choice for softmax has been deprecated. Change the call to include dim=X as an argument.\n",
      "  probs = torch.nn.functional.softmax(outputs.data).tolist()\n"
     ]
    },
    {
     "name": "stdout",
     "output_type": "stream",
     "text": [
      "SNOW 1 0.997\n",
      "SLGG 1 0.999\n",
      "GE 1 1.0\n",
      "PLTR 1 0.993\n",
      "QQQ 1 0.998\n",
      "QELL 1 0.999\n",
      "MRVL 1 1.0\n",
      "XL 1 0.985\n",
      "NFLX 1 0.99\n",
      "SPY 1 1.0\n",
      "VRM 1 0.899\n",
      "OKTA 0 0.762\n",
      "PEP 1 0.999\n",
      "SPLK 1 1.0\n",
      "SKT 1 1.0\n",
      "NCLH 1 0.927\n",
      "XPEV 1 0.991\n",
      "SOS 1 0.923\n",
      "SCHW 1 1.0\n",
      "RNR 0 0.896\n",
      "GEO 1 0.875\n",
      "ATSG 1 0.995\n",
      "KHC 1 0.98\n",
      "SPTN 1 0.956\n",
      "ARKK 1 0.999\n",
      "COHN 1 0.997\n",
      "RMNI 1 1.0\n",
      "ANTM 1 1.0\n",
      "BOUGHT: SOS --- Order#: 33341725\n",
      "Market is closed for the day. Sleeping for 13.095 hours.\n"
     ]
    }
   ],
   "source": [
    "bot.get_data()"
   ]
  },
  {
   "cell_type": "code",
   "execution_count": 10,
   "id": "transparent-panic",
   "metadata": {
    "scrolled": true
   },
   "outputs": [],
   "source": [
    "import pandas as pd\n",
    "import os\n",
    "filename = f\"ARKK_2021-03-03\"\n",
    "hist = pd.read_csv(f\"./live_data/{filename}.csv\").set_index('Local time')\n",
    "if os.path.exists(f\"./live_data/{filename}.csv\"):\n",
    "    old_hist = pd.read_csv(f\"./live_data/{filename}.csv\").set_index('Local time')\n",
    "    old_hist.merge(hist)"
   ]
  },
  {
   "cell_type": "code",
   "execution_count": 21,
   "id": "vocal-sailing",
   "metadata": {
    "scrolled": true
   },
   "outputs": [
    {
     "data": {
      "text/plain": [
       "(44, 6)"
      ]
     },
     "execution_count": 21,
     "metadata": {},
     "output_type": "execute_result"
    }
   ],
   "source": [
    "pd.concat([old_hist, hist[[idx not in old_hist.index for idx in hist.index]]]).shape"
   ]
  },
  {
   "cell_type": "code",
   "execution_count": 15,
   "id": "devoted-thumbnail",
   "metadata": {},
   "outputs": [
    {
     "data": {
      "text/plain": [
       "((44, 6), (44, 6), (88, 6), (88, 6), (44, 6))"
      ]
     },
     "execution_count": 15,
     "metadata": {},
     "output_type": "execute_result"
    }
   ],
   "source": [
    "hist.shape, old_hist.shape, old_hist.merge(hist).shape"
   ]
  },
  {
   "cell_type": "code",
   "execution_count": 5,
   "id": "bacterial-robinson",
   "metadata": {},
   "outputs": [
    {
     "data": {
      "text/plain": [
       "Index(['open', 'high', 'low', 'close', 'volume', 'vwap'], dtype='object')"
      ]
     },
     "execution_count": 5,
     "metadata": {},
     "output_type": "execute_result"
    }
   ],
   "source": [
    "hist.columns"
   ]
  },
  {
   "cell_type": "code",
   "execution_count": 6,
   "id": "statewide-framework",
   "metadata": {},
   "outputs": [
    {
     "data": {
      "text/plain": [
       "Index(['open', 'high', 'low', 'close', 'volume', 'vwap'], dtype='object')"
      ]
     },
     "execution_count": 6,
     "metadata": {},
     "output_type": "execute_result"
    }
   ],
   "source": [
    "old_hist.columns"
   ]
  },
  {
   "cell_type": "code",
   "execution_count": null,
   "id": "incoming-harris",
   "metadata": {},
   "outputs": [],
   "source": [
    "tp.shutdown()"
   ]
  },
  {
   "cell_type": "code",
   "execution_count": null,
   "id": "special-therapist",
   "metadata": {},
   "outputs": [],
   "source": [
    "[self.entered_trades[order['ticker']['symbol']] = True for order in bot.wb.get_current_orders()]"
   ]
  },
  {
   "cell_type": "code",
   "execution_count": 5,
   "id": "proved-graphics",
   "metadata": {},
   "outputs": [
    {
     "data": {
      "text/plain": [
       "[{'orderId': 33341344,\n",
       "  'paperId': 1,\n",
       "  'action': 'BUY',\n",
       "  'totalQuantity': '1',\n",
       "  'filledQuantity': '0',\n",
       "  'placedTime': '03/03/2021 19:59:29 EST',\n",
       "  'timeInForce': 'DAY',\n",
       "  'orderType': 'MKT',\n",
       "  'ticker': {'tickerId': 913324276,\n",
       "   'symbol': 'RNR',\n",
       "   'name': 'Renaissancere',\n",
       "   'tinyName': 'Renaissancere',\n",
       "   'listStatus': 1,\n",
       "   'exchangeCode': 'NYSE',\n",
       "   'exchangeId': 11,\n",
       "   'extType': [],\n",
       "   'type': 2,\n",
       "   'regionId': 6,\n",
       "   'regionName': '美国',\n",
       "   'regionIsoCode': 'US',\n",
       "   'currencyId': 247,\n",
       "   'currencyCode': 'USD',\n",
       "   'secType': [61],\n",
       "   'disExchangeCode': 'NYSE',\n",
       "   'disSymbol': 'RNR'},\n",
       "  'canModify': True,\n",
       "  'canCancel': True,\n",
       "  'createTime': '03/03/2021 19:59:28 EST',\n",
       "  'createTime0': 1614819568303,\n",
       "  'status': 'Working',\n",
       "  'statusStr': 'Working',\n",
       "  'outsideRegularTradingHour': False},\n",
       " {'orderId': 33341342,\n",
       "  'paperId': 1,\n",
       "  'action': 'BUY',\n",
       "  'totalQuantity': '1',\n",
       "  'filledQuantity': '0',\n",
       "  'placedTime': '03/03/2021 19:59:28 EST',\n",
       "  'timeInForce': 'DAY',\n",
       "  'orderType': 'MKT',\n",
       "  'ticker': {'tickerId': 925237190,\n",
       "   'symbol': 'OKTA',\n",
       "   'name': 'Okta',\n",
       "   'tinyName': 'Okta',\n",
       "   'listStatus': 1,\n",
       "   'exchangeCode': 'NSQ',\n",
       "   'exchangeId': 96,\n",
       "   'extType': [],\n",
       "   'type': 2,\n",
       "   'regionId': 6,\n",
       "   'regionName': '美国',\n",
       "   'regionIsoCode': 'US',\n",
       "   'currencyId': 247,\n",
       "   'currencyCode': 'USD',\n",
       "   'secType': [61],\n",
       "   'disExchangeCode': 'NASDAQ',\n",
       "   'disSymbol': 'OKTA'},\n",
       "  'canModify': True,\n",
       "  'canCancel': True,\n",
       "  'createTime': '03/03/2021 19:59:27 EST',\n",
       "  'createTime0': 1614819567597,\n",
       "  'status': 'Working',\n",
       "  'statusStr': 'Working',\n",
       "  'outsideRegularTradingHour': False},\n",
       " {'orderId': 33337751,\n",
       "  'paperId': 1,\n",
       "  'action': 'BUY',\n",
       "  'totalQuantity': '1',\n",
       "  'filledQuantity': '0',\n",
       "  'placedTime': '03/03/2021 18:13:30 EST',\n",
       "  'timeInForce': 'DAY',\n",
       "  'orderType': 'MKT',\n",
       "  'ticker': {'tickerId': 925237190,\n",
       "   'symbol': 'OKTA',\n",
       "   'name': 'Okta',\n",
       "   'tinyName': 'Okta',\n",
       "   'listStatus': 1,\n",
       "   'exchangeCode': 'NSQ',\n",
       "   'exchangeId': 96,\n",
       "   'extType': [],\n",
       "   'type': 2,\n",
       "   'regionId': 6,\n",
       "   'regionName': '美国',\n",
       "   'regionIsoCode': 'US',\n",
       "   'currencyId': 247,\n",
       "   'currencyCode': 'USD',\n",
       "   'secType': [61],\n",
       "   'disExchangeCode': 'NASDAQ',\n",
       "   'disSymbol': 'OKTA'},\n",
       "  'canModify': True,\n",
       "  'canCancel': True,\n",
       "  'createTime': '03/03/2021 18:13:29 EST',\n",
       "  'createTime0': 1614813209301,\n",
       "  'status': 'Working',\n",
       "  'statusStr': 'Working',\n",
       "  'outsideRegularTradingHour': False},\n",
       " {'orderId': 33337675,\n",
       "  'paperId': 1,\n",
       "  'action': 'BUY',\n",
       "  'totalQuantity': '1',\n",
       "  'filledQuantity': '0',\n",
       "  'placedTime': '03/03/2021 18:12:11 EST',\n",
       "  'timeInForce': 'DAY',\n",
       "  'orderType': 'MKT',\n",
       "  'ticker': {'tickerId': 925237190,\n",
       "   'symbol': 'OKTA',\n",
       "   'name': 'Okta',\n",
       "   'tinyName': 'Okta',\n",
       "   'listStatus': 1,\n",
       "   'exchangeCode': 'NSQ',\n",
       "   'exchangeId': 96,\n",
       "   'extType': [],\n",
       "   'type': 2,\n",
       "   'regionId': 6,\n",
       "   'regionName': '美国',\n",
       "   'regionIsoCode': 'US',\n",
       "   'currencyId': 247,\n",
       "   'currencyCode': 'USD',\n",
       "   'secType': [61],\n",
       "   'disExchangeCode': 'NASDAQ',\n",
       "   'disSymbol': 'OKTA'},\n",
       "  'canModify': True,\n",
       "  'canCancel': True,\n",
       "  'createTime': '03/03/2021 18:12:10 EST',\n",
       "  'createTime0': 1614813130361,\n",
       "  'status': 'Working',\n",
       "  'statusStr': 'Working',\n",
       "  'outsideRegularTradingHour': False}]"
      ]
     },
     "execution_count": 5,
     "metadata": {},
     "output_type": "execute_result"
    }
   ],
   "source": [
    "for order in self.wb.get_current_orders():\n",
    "    if order['action'] == 'BUY':\n",
    "        self.entered_trades[order['ticker']['symbol']] = True"
   ]
  },
  {
   "cell_type": "code",
   "execution_count": 6,
   "id": "ongoing-portugal",
   "metadata": {},
   "outputs": [],
   "source": [
    "order = bot.wb.place_order(stock='OKTA', action='BUY', orderType='MKT', enforce='DAY', quant=1)"
   ]
  },
  {
   "cell_type": "code",
   "execution_count": 8,
   "id": "informed-communication",
   "metadata": {},
   "outputs": [
    {
     "ename": "ValueError",
     "evalue": "TickerId could not be found for stock ATOM.X",
     "output_type": "error",
     "traceback": [
      "\u001b[1;31m---------------------------------------------------------------------------\u001b[0m",
      "\u001b[1;31mValueError\u001b[0m                                Traceback (most recent call last)",
      "\u001b[1;32m<ipython-input-8-a6bd5f72cc04>\u001b[0m in \u001b[0;36m<module>\u001b[1;34m\u001b[0m\n\u001b[1;32m----> 1\u001b[1;33m \u001b[0mbot\u001b[0m\u001b[1;33m.\u001b[0m\u001b[0mwb\u001b[0m\u001b[1;33m.\u001b[0m\u001b[0mplace_order_crypto\u001b[0m\u001b[1;33m(\u001b[0m\u001b[0mstock\u001b[0m\u001b[1;33m=\u001b[0m\u001b[1;34m'ATOM.X'\u001b[0m\u001b[1;33m,\u001b[0m \u001b[0maction\u001b[0m\u001b[1;33m=\u001b[0m\u001b[1;34m'BUY'\u001b[0m\u001b[1;33m,\u001b[0m \u001b[0morderType\u001b[0m\u001b[1;33m=\u001b[0m\u001b[1;34m'MKT'\u001b[0m\u001b[1;33m,\u001b[0m \u001b[0menforce\u001b[0m\u001b[1;33m=\u001b[0m\u001b[1;34m'DAY'\u001b[0m\u001b[1;33m,\u001b[0m \u001b[0mquant\u001b[0m\u001b[1;33m=\u001b[0m\u001b[1;36m1\u001b[0m\u001b[1;33m)\u001b[0m\u001b[1;33m\u001b[0m\u001b[1;33m\u001b[0m\u001b[0m\n\u001b[0m",
      "\u001b[1;32mc:\\users\\mcian\\appdata\\local\\programs\\python\\python37\\lib\\site-packages\\webull\\webull.py\u001b[0m in \u001b[0;36mplace_order_crypto\u001b[1;34m(self, stock, tId, price, action, orderType, enforce, entrust_type, quant, outsideRegularTradingHour)\u001b[0m\n\u001b[0;32m    584\u001b[0m             \u001b[1;32mpass\u001b[0m\u001b[1;33m\u001b[0m\u001b[1;33m\u001b[0m\u001b[0m\n\u001b[0;32m    585\u001b[0m         \u001b[1;32melif\u001b[0m \u001b[1;32mnot\u001b[0m \u001b[0mstock\u001b[0m \u001b[1;32mis\u001b[0m \u001b[1;32mNone\u001b[0m\u001b[1;33m:\u001b[0m\u001b[1;33m\u001b[0m\u001b[1;33m\u001b[0m\u001b[0m\n\u001b[1;32m--> 586\u001b[1;33m             \u001b[0mtId\u001b[0m \u001b[1;33m=\u001b[0m \u001b[0mself\u001b[0m\u001b[1;33m.\u001b[0m\u001b[0mget_ticker\u001b[0m\u001b[1;33m(\u001b[0m\u001b[0mstock\u001b[0m\u001b[1;33m)\u001b[0m\u001b[1;33m\u001b[0m\u001b[1;33m\u001b[0m\u001b[0m\n\u001b[0m\u001b[0;32m    587\u001b[0m         \u001b[1;32melse\u001b[0m\u001b[1;33m:\u001b[0m\u001b[1;33m\u001b[0m\u001b[1;33m\u001b[0m\u001b[0m\n\u001b[0;32m    588\u001b[0m             \u001b[1;32mraise\u001b[0m \u001b[0mValueError\u001b[0m\u001b[1;33m(\u001b[0m\u001b[1;34m'Must provide a stock symbol or a stock id'\u001b[0m\u001b[1;33m)\u001b[0m\u001b[1;33m\u001b[0m\u001b[1;33m\u001b[0m\u001b[0m\n",
      "\u001b[1;32mc:\\users\\mcian\\appdata\\local\\programs\\python\\python37\\lib\\site-packages\\webull\\webull.py\u001b[0m in \u001b[0;36mget_ticker\u001b[1;34m(self, stock)\u001b[0m\n\u001b[0;32m    360\u001b[0m                     \u001b[0mticker_id\u001b[0m \u001b[1;33m=\u001b[0m \u001b[0mresult\u001b[0m\u001b[1;33m[\u001b[0m\u001b[1;34m'data'\u001b[0m\u001b[1;33m]\u001b[0m\u001b[1;33m[\u001b[0m\u001b[1;36m0\u001b[0m\u001b[1;33m]\u001b[0m\u001b[1;33m[\u001b[0m\u001b[1;34m'tickerId'\u001b[0m\u001b[1;33m]\u001b[0m\u001b[1;33m\u001b[0m\u001b[1;33m\u001b[0m\u001b[0m\n\u001b[0;32m    361\u001b[0m             \u001b[1;32melse\u001b[0m\u001b[1;33m:\u001b[0m\u001b[1;33m\u001b[0m\u001b[1;33m\u001b[0m\u001b[0m\n\u001b[1;32m--> 362\u001b[1;33m                 \u001b[1;32mraise\u001b[0m \u001b[0mValueError\u001b[0m\u001b[1;33m(\u001b[0m\u001b[1;34m'TickerId could not be found for stock {}'\u001b[0m\u001b[1;33m.\u001b[0m\u001b[0mformat\u001b[0m\u001b[1;33m(\u001b[0m\u001b[0mstock\u001b[0m\u001b[1;33m)\u001b[0m\u001b[1;33m)\u001b[0m\u001b[1;33m\u001b[0m\u001b[1;33m\u001b[0m\u001b[0m\n\u001b[0m\u001b[0;32m    363\u001b[0m         \u001b[1;32melse\u001b[0m\u001b[1;33m:\u001b[0m\u001b[1;33m\u001b[0m\u001b[1;33m\u001b[0m\u001b[0m\n\u001b[0;32m    364\u001b[0m             \u001b[1;32mraise\u001b[0m \u001b[0mValueError\u001b[0m\u001b[1;33m(\u001b[0m\u001b[1;34m'Stock symbol is required'\u001b[0m\u001b[1;33m)\u001b[0m\u001b[1;33m\u001b[0m\u001b[1;33m\u001b[0m\u001b[0m\n",
      "\u001b[1;31mValueError\u001b[0m: TickerId could not be found for stock ATOM.X"
     ]
    }
   ],
   "source": [
    "bot.wb.place_order_crypto(stock='ATOM.X', action='BUY', orderType='MKT', enforce='DAY', quant=1)"
   ]
  },
  {
   "cell_type": "code",
   "execution_count": 94,
   "id": "crucial-telling",
   "metadata": {
    "scrolled": true
   },
   "outputs": [
    {
     "data": {
      "text/html": [
       "<div>\n",
       "<style scoped>\n",
       "    .dataframe tbody tr th:only-of-type {\n",
       "        vertical-align: middle;\n",
       "    }\n",
       "\n",
       "    .dataframe tbody tr th {\n",
       "        vertical-align: top;\n",
       "    }\n",
       "\n",
       "    .dataframe thead th {\n",
       "        text-align: right;\n",
       "    }\n",
       "</style>\n",
       "<table border=\"1\" class=\"dataframe\">\n",
       "  <thead>\n",
       "    <tr style=\"text-align: right;\">\n",
       "      <th></th>\n",
       "      <th>open</th>\n",
       "      <th>high</th>\n",
       "      <th>low</th>\n",
       "      <th>close</th>\n",
       "      <th>volume</th>\n",
       "      <th>vwap</th>\n",
       "    </tr>\n",
       "    <tr>\n",
       "      <th>Local time</th>\n",
       "      <th></th>\n",
       "      <th></th>\n",
       "      <th></th>\n",
       "      <th></th>\n",
       "      <th></th>\n",
       "      <th></th>\n",
       "    </tr>\n",
       "  </thead>\n",
       "  <tbody>\n",
       "    <tr>\n",
       "      <th>2021-03-03 15:17:00-05:00</th>\n",
       "      <td>14.05</td>\n",
       "      <td>14.07</td>\n",
       "      <td>13.91</td>\n",
       "      <td>13.93</td>\n",
       "      <td>76193.0</td>\n",
       "      <td>14.18</td>\n",
       "    </tr>\n",
       "    <tr>\n",
       "      <th>2021-03-03 15:18:00-05:00</th>\n",
       "      <td>13.94</td>\n",
       "      <td>13.99</td>\n",
       "      <td>13.91</td>\n",
       "      <td>13.97</td>\n",
       "      <td>75893.0</td>\n",
       "      <td>14.17</td>\n",
       "    </tr>\n",
       "    <tr>\n",
       "      <th>2021-03-03 15:19:00-05:00</th>\n",
       "      <td>13.96</td>\n",
       "      <td>13.97</td>\n",
       "      <td>13.84</td>\n",
       "      <td>13.94</td>\n",
       "      <td>112627.0</td>\n",
       "      <td>14.17</td>\n",
       "    </tr>\n",
       "    <tr>\n",
       "      <th>2021-03-03 15:20:00-05:00</th>\n",
       "      <td>13.94</td>\n",
       "      <td>13.95</td>\n",
       "      <td>13.83</td>\n",
       "      <td>13.91</td>\n",
       "      <td>54682.0</td>\n",
       "      <td>14.17</td>\n",
       "    </tr>\n",
       "    <tr>\n",
       "      <th>2021-03-03 15:21:00-05:00</th>\n",
       "      <td>13.91</td>\n",
       "      <td>13.91</td>\n",
       "      <td>13.80</td>\n",
       "      <td>13.82</td>\n",
       "      <td>50806.0</td>\n",
       "      <td>14.17</td>\n",
       "    </tr>\n",
       "    <tr>\n",
       "      <th>2021-03-03 15:22:00-05:00</th>\n",
       "      <td>13.80</td>\n",
       "      <td>13.82</td>\n",
       "      <td>13.77</td>\n",
       "      <td>13.79</td>\n",
       "      <td>50799.0</td>\n",
       "      <td>14.17</td>\n",
       "    </tr>\n",
       "    <tr>\n",
       "      <th>2021-03-03 15:23:00-05:00</th>\n",
       "      <td>13.79</td>\n",
       "      <td>13.83</td>\n",
       "      <td>13.70</td>\n",
       "      <td>13.71</td>\n",
       "      <td>73828.0</td>\n",
       "      <td>14.17</td>\n",
       "    </tr>\n",
       "    <tr>\n",
       "      <th>2021-03-03 15:24:00-05:00</th>\n",
       "      <td>13.70</td>\n",
       "      <td>13.81</td>\n",
       "      <td>13.70</td>\n",
       "      <td>13.77</td>\n",
       "      <td>68035.0</td>\n",
       "      <td>14.17</td>\n",
       "    </tr>\n",
       "    <tr>\n",
       "      <th>2021-03-03 15:25:00-05:00</th>\n",
       "      <td>13.77</td>\n",
       "      <td>13.83</td>\n",
       "      <td>13.76</td>\n",
       "      <td>13.81</td>\n",
       "      <td>100063.0</td>\n",
       "      <td>14.17</td>\n",
       "    </tr>\n",
       "    <tr>\n",
       "      <th>2021-03-03 15:26:00-05:00</th>\n",
       "      <td>13.81</td>\n",
       "      <td>13.81</td>\n",
       "      <td>13.74</td>\n",
       "      <td>13.77</td>\n",
       "      <td>66638.0</td>\n",
       "      <td>14.17</td>\n",
       "    </tr>\n",
       "    <tr>\n",
       "      <th>2021-03-03 15:27:00-05:00</th>\n",
       "      <td>13.77</td>\n",
       "      <td>13.84</td>\n",
       "      <td>13.73</td>\n",
       "      <td>13.82</td>\n",
       "      <td>77205.0</td>\n",
       "      <td>14.17</td>\n",
       "    </tr>\n",
       "    <tr>\n",
       "      <th>2021-03-03 15:28:00-05:00</th>\n",
       "      <td>13.81</td>\n",
       "      <td>13.90</td>\n",
       "      <td>13.74</td>\n",
       "      <td>13.87</td>\n",
       "      <td>101303.0</td>\n",
       "      <td>14.17</td>\n",
       "    </tr>\n",
       "    <tr>\n",
       "      <th>2021-03-03 15:29:00-05:00</th>\n",
       "      <td>13.89</td>\n",
       "      <td>13.89</td>\n",
       "      <td>13.77</td>\n",
       "      <td>13.80</td>\n",
       "      <td>32912.0</td>\n",
       "      <td>14.17</td>\n",
       "    </tr>\n",
       "    <tr>\n",
       "      <th>2021-03-03 15:30:00-05:00</th>\n",
       "      <td>13.80</td>\n",
       "      <td>13.84</td>\n",
       "      <td>13.78</td>\n",
       "      <td>13.81</td>\n",
       "      <td>65527.0</td>\n",
       "      <td>14.17</td>\n",
       "    </tr>\n",
       "    <tr>\n",
       "      <th>2021-03-03 15:31:00-05:00</th>\n",
       "      <td>13.81</td>\n",
       "      <td>13.85</td>\n",
       "      <td>13.79</td>\n",
       "      <td>13.80</td>\n",
       "      <td>52120.0</td>\n",
       "      <td>14.16</td>\n",
       "    </tr>\n",
       "    <tr>\n",
       "      <th>2021-03-03 15:32:00-05:00</th>\n",
       "      <td>13.80</td>\n",
       "      <td>13.91</td>\n",
       "      <td>13.74</td>\n",
       "      <td>13.91</td>\n",
       "      <td>56724.0</td>\n",
       "      <td>14.16</td>\n",
       "    </tr>\n",
       "    <tr>\n",
       "      <th>2021-03-03 15:33:00-05:00</th>\n",
       "      <td>13.90</td>\n",
       "      <td>14.05</td>\n",
       "      <td>13.89</td>\n",
       "      <td>14.02</td>\n",
       "      <td>76926.0</td>\n",
       "      <td>14.16</td>\n",
       "    </tr>\n",
       "    <tr>\n",
       "      <th>2021-03-03 15:34:00-05:00</th>\n",
       "      <td>14.02</td>\n",
       "      <td>14.07</td>\n",
       "      <td>13.90</td>\n",
       "      <td>14.01</td>\n",
       "      <td>93525.0</td>\n",
       "      <td>14.16</td>\n",
       "    </tr>\n",
       "    <tr>\n",
       "      <th>2021-03-03 15:35:00-05:00</th>\n",
       "      <td>14.03</td>\n",
       "      <td>14.07</td>\n",
       "      <td>13.92</td>\n",
       "      <td>13.97</td>\n",
       "      <td>79687.0</td>\n",
       "      <td>14.16</td>\n",
       "    </tr>\n",
       "    <tr>\n",
       "      <th>2021-03-03 15:36:00-05:00</th>\n",
       "      <td>13.96</td>\n",
       "      <td>14.03</td>\n",
       "      <td>13.95</td>\n",
       "      <td>14.02</td>\n",
       "      <td>43519.0</td>\n",
       "      <td>14.16</td>\n",
       "    </tr>\n",
       "    <tr>\n",
       "      <th>2021-03-03 15:37:00-05:00</th>\n",
       "      <td>14.00</td>\n",
       "      <td>14.05</td>\n",
       "      <td>13.97</td>\n",
       "      <td>14.03</td>\n",
       "      <td>82992.0</td>\n",
       "      <td>14.16</td>\n",
       "    </tr>\n",
       "    <tr>\n",
       "      <th>2021-03-03 15:38:00-05:00</th>\n",
       "      <td>14.03</td>\n",
       "      <td>14.04</td>\n",
       "      <td>14.01</td>\n",
       "      <td>14.02</td>\n",
       "      <td>22833.0</td>\n",
       "      <td>14.16</td>\n",
       "    </tr>\n",
       "    <tr>\n",
       "      <th>2021-03-03 15:39:00-05:00</th>\n",
       "      <td>14.02</td>\n",
       "      <td>14.02</td>\n",
       "      <td>13.95</td>\n",
       "      <td>13.96</td>\n",
       "      <td>28864.0</td>\n",
       "      <td>14.16</td>\n",
       "    </tr>\n",
       "    <tr>\n",
       "      <th>2021-03-03 15:40:00-05:00</th>\n",
       "      <td>13.96</td>\n",
       "      <td>14.07</td>\n",
       "      <td>13.90</td>\n",
       "      <td>14.07</td>\n",
       "      <td>94686.0</td>\n",
       "      <td>14.16</td>\n",
       "    </tr>\n",
       "    <tr>\n",
       "      <th>2021-03-03 15:41:00-05:00</th>\n",
       "      <td>14.07</td>\n",
       "      <td>14.09</td>\n",
       "      <td>14.04</td>\n",
       "      <td>14.05</td>\n",
       "      <td>49829.0</td>\n",
       "      <td>14.16</td>\n",
       "    </tr>\n",
       "    <tr>\n",
       "      <th>2021-03-03 15:42:00-05:00</th>\n",
       "      <td>14.05</td>\n",
       "      <td>14.06</td>\n",
       "      <td>13.95</td>\n",
       "      <td>14.01</td>\n",
       "      <td>74300.0</td>\n",
       "      <td>14.16</td>\n",
       "    </tr>\n",
       "    <tr>\n",
       "      <th>2021-03-03 15:43:00-05:00</th>\n",
       "      <td>14.00</td>\n",
       "      <td>14.15</td>\n",
       "      <td>14.00</td>\n",
       "      <td>14.05</td>\n",
       "      <td>105487.0</td>\n",
       "      <td>14.16</td>\n",
       "    </tr>\n",
       "    <tr>\n",
       "      <th>2021-03-03 15:44:00-05:00</th>\n",
       "      <td>14.07</td>\n",
       "      <td>14.18</td>\n",
       "      <td>14.06</td>\n",
       "      <td>14.10</td>\n",
       "      <td>59968.0</td>\n",
       "      <td>14.16</td>\n",
       "    </tr>\n",
       "    <tr>\n",
       "      <th>2021-03-03 15:45:00-05:00</th>\n",
       "      <td>14.09</td>\n",
       "      <td>14.16</td>\n",
       "      <td>14.09</td>\n",
       "      <td>14.11</td>\n",
       "      <td>74258.0</td>\n",
       "      <td>14.16</td>\n",
       "    </tr>\n",
       "    <tr>\n",
       "      <th>2021-03-03 15:46:00-05:00</th>\n",
       "      <td>14.11</td>\n",
       "      <td>14.22</td>\n",
       "      <td>14.10</td>\n",
       "      <td>14.11</td>\n",
       "      <td>88855.0</td>\n",
       "      <td>14.16</td>\n",
       "    </tr>\n",
       "    <tr>\n",
       "      <th>2021-03-03 15:47:00-05:00</th>\n",
       "      <td>14.11</td>\n",
       "      <td>14.14</td>\n",
       "      <td>14.04</td>\n",
       "      <td>14.09</td>\n",
       "      <td>121491.0</td>\n",
       "      <td>14.16</td>\n",
       "    </tr>\n",
       "    <tr>\n",
       "      <th>2021-03-03 15:48:00-05:00</th>\n",
       "      <td>14.07</td>\n",
       "      <td>14.10</td>\n",
       "      <td>14.01</td>\n",
       "      <td>14.01</td>\n",
       "      <td>31272.0</td>\n",
       "      <td>14.16</td>\n",
       "    </tr>\n",
       "    <tr>\n",
       "      <th>2021-03-03 15:49:00-05:00</th>\n",
       "      <td>14.02</td>\n",
       "      <td>14.02</td>\n",
       "      <td>13.95</td>\n",
       "      <td>13.97</td>\n",
       "      <td>103299.0</td>\n",
       "      <td>14.16</td>\n",
       "    </tr>\n",
       "    <tr>\n",
       "      <th>2021-03-03 15:50:00-05:00</th>\n",
       "      <td>13.97</td>\n",
       "      <td>13.97</td>\n",
       "      <td>13.87</td>\n",
       "      <td>13.90</td>\n",
       "      <td>107426.0</td>\n",
       "      <td>14.16</td>\n",
       "    </tr>\n",
       "    <tr>\n",
       "      <th>2021-03-03 15:51:00-05:00</th>\n",
       "      <td>13.90</td>\n",
       "      <td>13.93</td>\n",
       "      <td>13.89</td>\n",
       "      <td>13.93</td>\n",
       "      <td>59745.0</td>\n",
       "      <td>14.16</td>\n",
       "    </tr>\n",
       "    <tr>\n",
       "      <th>2021-03-03 15:52:00-05:00</th>\n",
       "      <td>13.92</td>\n",
       "      <td>13.98</td>\n",
       "      <td>13.92</td>\n",
       "      <td>13.97</td>\n",
       "      <td>72644.0</td>\n",
       "      <td>14.16</td>\n",
       "    </tr>\n",
       "    <tr>\n",
       "      <th>2021-03-03 15:53:00-05:00</th>\n",
       "      <td>13.97</td>\n",
       "      <td>14.01</td>\n",
       "      <td>13.93</td>\n",
       "      <td>13.94</td>\n",
       "      <td>92593.0</td>\n",
       "      <td>14.16</td>\n",
       "    </tr>\n",
       "    <tr>\n",
       "      <th>2021-03-03 15:54:00-05:00</th>\n",
       "      <td>13.94</td>\n",
       "      <td>13.94</td>\n",
       "      <td>13.88</td>\n",
       "      <td>13.88</td>\n",
       "      <td>38481.0</td>\n",
       "      <td>14.16</td>\n",
       "    </tr>\n",
       "    <tr>\n",
       "      <th>2021-03-03 15:55:00-05:00</th>\n",
       "      <td>13.88</td>\n",
       "      <td>13.92</td>\n",
       "      <td>13.86</td>\n",
       "      <td>13.90</td>\n",
       "      <td>105588.0</td>\n",
       "      <td>14.16</td>\n",
       "    </tr>\n",
       "    <tr>\n",
       "      <th>2021-03-03 15:56:00-05:00</th>\n",
       "      <td>13.90</td>\n",
       "      <td>13.94</td>\n",
       "      <td>13.83</td>\n",
       "      <td>13.84</td>\n",
       "      <td>218341.0</td>\n",
       "      <td>14.16</td>\n",
       "    </tr>\n",
       "    <tr>\n",
       "      <th>2021-03-03 15:57:00-05:00</th>\n",
       "      <td>13.84</td>\n",
       "      <td>13.93</td>\n",
       "      <td>13.83</td>\n",
       "      <td>13.92</td>\n",
       "      <td>216760.0</td>\n",
       "      <td>14.15</td>\n",
       "    </tr>\n",
       "    <tr>\n",
       "      <th>2021-03-03 15:58:00-05:00</th>\n",
       "      <td>13.92</td>\n",
       "      <td>13.95</td>\n",
       "      <td>13.90</td>\n",
       "      <td>13.93</td>\n",
       "      <td>114020.0</td>\n",
       "      <td>14.15</td>\n",
       "    </tr>\n",
       "    <tr>\n",
       "      <th>2021-03-03 15:59:00-05:00</th>\n",
       "      <td>13.93</td>\n",
       "      <td>13.93</td>\n",
       "      <td>13.89</td>\n",
       "      <td>13.89</td>\n",
       "      <td>76335.0</td>\n",
       "      <td>14.15</td>\n",
       "    </tr>\n",
       "    <tr>\n",
       "      <th>2021-03-03 16:00:00-05:00</th>\n",
       "      <td>13.89</td>\n",
       "      <td>13.89</td>\n",
       "      <td>13.85</td>\n",
       "      <td>13.86</td>\n",
       "      <td>165830.0</td>\n",
       "      <td>14.15</td>\n",
       "    </tr>\n",
       "  </tbody>\n",
       "</table>\n",
       "</div>"
      ],
      "text/plain": [
       "                            open   high    low  close    volume   vwap\n",
       "Local time                                                            \n",
       "2021-03-03 15:17:00-05:00  14.05  14.07  13.91  13.93   76193.0  14.18\n",
       "2021-03-03 15:18:00-05:00  13.94  13.99  13.91  13.97   75893.0  14.17\n",
       "2021-03-03 15:19:00-05:00  13.96  13.97  13.84  13.94  112627.0  14.17\n",
       "2021-03-03 15:20:00-05:00  13.94  13.95  13.83  13.91   54682.0  14.17\n",
       "2021-03-03 15:21:00-05:00  13.91  13.91  13.80  13.82   50806.0  14.17\n",
       "2021-03-03 15:22:00-05:00  13.80  13.82  13.77  13.79   50799.0  14.17\n",
       "2021-03-03 15:23:00-05:00  13.79  13.83  13.70  13.71   73828.0  14.17\n",
       "2021-03-03 15:24:00-05:00  13.70  13.81  13.70  13.77   68035.0  14.17\n",
       "2021-03-03 15:25:00-05:00  13.77  13.83  13.76  13.81  100063.0  14.17\n",
       "2021-03-03 15:26:00-05:00  13.81  13.81  13.74  13.77   66638.0  14.17\n",
       "2021-03-03 15:27:00-05:00  13.77  13.84  13.73  13.82   77205.0  14.17\n",
       "2021-03-03 15:28:00-05:00  13.81  13.90  13.74  13.87  101303.0  14.17\n",
       "2021-03-03 15:29:00-05:00  13.89  13.89  13.77  13.80   32912.0  14.17\n",
       "2021-03-03 15:30:00-05:00  13.80  13.84  13.78  13.81   65527.0  14.17\n",
       "2021-03-03 15:31:00-05:00  13.81  13.85  13.79  13.80   52120.0  14.16\n",
       "2021-03-03 15:32:00-05:00  13.80  13.91  13.74  13.91   56724.0  14.16\n",
       "2021-03-03 15:33:00-05:00  13.90  14.05  13.89  14.02   76926.0  14.16\n",
       "2021-03-03 15:34:00-05:00  14.02  14.07  13.90  14.01   93525.0  14.16\n",
       "2021-03-03 15:35:00-05:00  14.03  14.07  13.92  13.97   79687.0  14.16\n",
       "2021-03-03 15:36:00-05:00  13.96  14.03  13.95  14.02   43519.0  14.16\n",
       "2021-03-03 15:37:00-05:00  14.00  14.05  13.97  14.03   82992.0  14.16\n",
       "2021-03-03 15:38:00-05:00  14.03  14.04  14.01  14.02   22833.0  14.16\n",
       "2021-03-03 15:39:00-05:00  14.02  14.02  13.95  13.96   28864.0  14.16\n",
       "2021-03-03 15:40:00-05:00  13.96  14.07  13.90  14.07   94686.0  14.16\n",
       "2021-03-03 15:41:00-05:00  14.07  14.09  14.04  14.05   49829.0  14.16\n",
       "2021-03-03 15:42:00-05:00  14.05  14.06  13.95  14.01   74300.0  14.16\n",
       "2021-03-03 15:43:00-05:00  14.00  14.15  14.00  14.05  105487.0  14.16\n",
       "2021-03-03 15:44:00-05:00  14.07  14.18  14.06  14.10   59968.0  14.16\n",
       "2021-03-03 15:45:00-05:00  14.09  14.16  14.09  14.11   74258.0  14.16\n",
       "2021-03-03 15:46:00-05:00  14.11  14.22  14.10  14.11   88855.0  14.16\n",
       "2021-03-03 15:47:00-05:00  14.11  14.14  14.04  14.09  121491.0  14.16\n",
       "2021-03-03 15:48:00-05:00  14.07  14.10  14.01  14.01   31272.0  14.16\n",
       "2021-03-03 15:49:00-05:00  14.02  14.02  13.95  13.97  103299.0  14.16\n",
       "2021-03-03 15:50:00-05:00  13.97  13.97  13.87  13.90  107426.0  14.16\n",
       "2021-03-03 15:51:00-05:00  13.90  13.93  13.89  13.93   59745.0  14.16\n",
       "2021-03-03 15:52:00-05:00  13.92  13.98  13.92  13.97   72644.0  14.16\n",
       "2021-03-03 15:53:00-05:00  13.97  14.01  13.93  13.94   92593.0  14.16\n",
       "2021-03-03 15:54:00-05:00  13.94  13.94  13.88  13.88   38481.0  14.16\n",
       "2021-03-03 15:55:00-05:00  13.88  13.92  13.86  13.90  105588.0  14.16\n",
       "2021-03-03 15:56:00-05:00  13.90  13.94  13.83  13.84  218341.0  14.16\n",
       "2021-03-03 15:57:00-05:00  13.84  13.93  13.83  13.92  216760.0  14.15\n",
       "2021-03-03 15:58:00-05:00  13.92  13.95  13.90  13.93  114020.0  14.15\n",
       "2021-03-03 15:59:00-05:00  13.93  13.93  13.89  13.89   76335.0  14.15\n",
       "2021-03-03 16:00:00-05:00  13.89  13.89  13.85  13.86  165830.0  14.15"
      ]
     },
     "execution_count": 94,
     "metadata": {},
     "output_type": "execute_result"
    }
   ],
   "source": [
    "bot.hists[0].index.name = 'Local time'"
   ]
  },
  {
   "cell_type": "code",
   "execution_count": 96,
   "id": "naughty-garbage",
   "metadata": {},
   "outputs": [
    {
     "data": {
      "text/plain": [
       "Event(time=1614818330.1988432, priority=1, action=<bound method WebullBot.run of <WebullBot.WebullBot object at 0x000002A560967548>>, argument=(), kwargs={})"
      ]
     },
     "execution_count": 96,
     "metadata": {},
     "output_type": "execute_result"
    }
   ],
   "source": [
    "bot.s.enter(10, 1, bot.run)"
   ]
  },
  {
   "cell_type": "code",
   "execution_count": 7,
   "id": "directed-still",
   "metadata": {},
   "outputs": [
    {
     "data": {
      "text/plain": [
       "{'orderId': 33337751}"
      ]
     },
     "execution_count": 7,
     "metadata": {},
     "output_type": "execute_result"
    }
   ],
   "source": [
    "order"
   ]
  },
  {
   "cell_type": "code",
   "execution_count": 98,
   "id": "surprising-digit",
   "metadata": {},
   "outputs": [
    {
     "data": {
      "text/plain": [
       "{'a': Empty DataFrame\n",
       " Columns: []\n",
       " Index: []}"
      ]
     },
     "execution_count": 98,
     "metadata": {},
     "output_type": "execute_result"
    }
   ],
   "source": [
    "import pandas as pd\n",
    "{'a': pd.DataFrame()}"
   ]
  },
  {
   "cell_type": "code",
   "execution_count": 5,
   "id": "destroyed-catering",
   "metadata": {},
   "outputs": [],
   "source": [
    "wb.place_order?"
   ]
  },
  {
   "cell_type": "code",
   "execution_count": 33,
   "id": "streaming-level",
   "metadata": {},
   "outputs": [
    {
     "data": {
      "text/plain": [
       "{'timestamp': '2021-03-03T22:00:43.811+0000',\n",
       " 'status': 404,\n",
       " 'error': 'Not Found',\n",
       " 'message': 'No message available',\n",
       " 'path': '/webull-paper-center/api/paper/1/acc/'}"
      ]
     },
     "execution_count": 33,
     "metadata": {},
     "output_type": "execute_result"
    }
   ],
   "source": [
    "wb.get_account()"
   ]
  },
  {
   "cell_type": "code",
   "execution_count": 40,
   "id": "fitted-knife",
   "metadata": {},
   "outputs": [],
   "source": [
    "loginInfo = json.load(open('token.txt'))"
   ]
  },
  {
   "cell_type": "code",
   "execution_count": 41,
   "id": "optimum-acoustic",
   "metadata": {
    "scrolled": true
   },
   "outputs": [
    {
     "data": {
      "text/plain": [
       "{'extInfo': {'userPwdFlag': '1'},\n",
       " 'accessToken': 'dc_us1.177fa2abcc8-1aa22301f1af49e5902803bf58f6b1bd',\n",
       " 'uuid': '1774989196deb863da569a54ed889ebd0db5568a469',\n",
       " 'refreshToken': '177fa2abcc8-4f0dffc7b8694b05bb1612a276b66e3c',\n",
       " 'tokenExpireTime': '2021-05-02T22:17:20.840+0000',\n",
       " 'firstTimeOfThird': False,\n",
       " 'registerAddress': 6,\n",
       " 'settings': {'id': 408527421533675520,\n",
       "  'userId': 305867657,\n",
       "  'regionId': 6,\n",
       "  'language': 'en',\n",
       "  'focusMarketId': '2,3,4,5,6,14',\n",
       "  'theme': 2,\n",
       "  'increDecreColor': 2,\n",
       "  'fontSize': 'M',\n",
       "  'portfolioDisplayMode': 2,\n",
       "  'portfolioNameNewline': 1,\n",
       "  'portfolioHoldingsDisplay': 1,\n",
       "  'portfolioIndexDisplay': 1,\n",
       "  'portfolioBulletin': 1,\n",
       "  'kdata': 1,\n",
       "  'refreshFrequency': 1,\n",
       "  'shock': 0,\n",
       "  'tickerPriceRemind': 1,\n",
       "  'orderDealRemind': 1,\n",
       "  'hotNews': 1,\n",
       "  'chartOption': 2,\n",
       "  'operateTime': '2021-02-22T10:07:51.000+0000',\n",
       "  'languageUpdateTime': '2021-02-22T10:07:51.000+0000',\n",
       "  'createTime': '2021-01-28T15:07:37.000+0000',\n",
       "  'updateTime': '2021-02-22T18:07:50.000+0000',\n",
       "  'listStyle': 1}}"
      ]
     },
     "execution_count": 41,
     "metadata": {},
     "output_type": "execute_result"
    }
   ],
   "source": [
    "loginInfo"
   ]
  },
  {
   "cell_type": "code",
   "execution_count": 42,
   "id": "adopted-spray",
   "metadata": {},
   "outputs": [
    {
     "name": "stdout",
     "output_type": "stream",
     "text": [
      "say hello\n"
     ]
    }
   ],
   "source": [
    "conn = StreamConn(debug_flg=False)\n",
    "if not loginInfo['accessToken'] is None and len(loginInfo['accessToken']) > 1:\n",
    "    conn.connect(loginInfo['uuid'], access_token=loginInfo['accessToken'])\n",
    "else:\n",
    "    conn.connect(wb.did)"
   ]
  },
  {
   "cell_type": "code",
   "execution_count": 45,
   "id": "manual-renewal",
   "metadata": {},
   "outputs": [
    {
     "data": {
      "text/plain": [
       "{}"
      ]
     },
     "execution_count": 45,
     "metadata": {},
     "output_type": "execute_result"
    }
   ],
   "source": [
    "conn.total_volume"
   ]
  },
  {
   "cell_type": "code",
   "execution_count": 10,
   "id": "realistic-realtor",
   "metadata": {},
   "outputs": [],
   "source": [
    "    wb = paper_webull()\n",
    "    try:\n",
    "        f = open('token.txt', \"r\")\n",
    "        login_info = json.load(f)\n",
    "    except:\n",
    "        print(\"First time login.\")\n",
    "        login_info = None\n",
    "\n",
    "    #If first time save login as token\n",
    "    if not login_info:\n",
    "        wb.get_mfa(email) #mobile number should be okay as well.\n",
    "        code = input('Enter MFA Code : ')\n",
    "        login_info = wb.login('myemail@email.com', 'my password', 'My Device', code)\n",
    "        f = open(token_file, \"w\")\n",
    "        f.write(json.dumps(login_info))\n",
    "        f.close()\n",
    "    else:\n",
    "        wb.refresh_login()\n",
    "        login_info = wb.login('mcian91@gmail.com', 'FgrtyewFgrtyew1!')\n"
   ]
  },
  {
   "cell_type": "code",
   "execution_count": 31,
   "id": "robust-wyoming",
   "metadata": {},
   "outputs": [
    {
     "data": {
      "text/plain": [
       "True"
      ]
     },
     "execution_count": 31,
     "metadata": {},
     "output_type": "execute_result"
    }
   ],
   "source": [
    "wb.get_mfa('mcian91@hotmail.com')"
   ]
  },
  {
   "cell_type": "code",
   "execution_count": 50,
   "id": "dense-moses",
   "metadata": {},
   "outputs": [],
   "source": [
    "wb = paper_webull()\n",
    "code = 708109\n",
    "login_info = wb.login('mcian91@gmail.com', 'FgrtyewFgrtyew1!')\n",
    "f = open('token.txt', \"w\")\n",
    "f.write(json.dumps(login_info))\n",
    "f.close()"
   ]
  },
  {
   "cell_type": "code",
   "execution_count": 51,
   "id": "academic-pendant",
   "metadata": {
    "scrolled": true
   },
   "outputs": [
    {
     "data": {
      "text/plain": [
       "{'extInfo': {'userPwdFlag': '1'},\n",
       " 'accessToken': 'dc_us1.177fa374a05-0174d4fb05ca4df095685d0ebc31350b',\n",
       " 'uuid': '1774989196deb863da569a54ed889ebd0db5568a469',\n",
       " 'refreshToken': '177fa374a05-bceccec4fcbe4f168eb51dae5614ff6c',\n",
       " 'tokenExpireTime': '2021-05-02T22:31:03.429+0000',\n",
       " 'firstTimeOfThird': False,\n",
       " 'registerAddress': 6,\n",
       " 'settings': {'id': 408527421533675520,\n",
       "  'userId': 305867657,\n",
       "  'regionId': 6,\n",
       "  'language': 'en',\n",
       "  'focusMarketId': '2,3,4,5,6,14',\n",
       "  'theme': 2,\n",
       "  'increDecreColor': 2,\n",
       "  'fontSize': 'M',\n",
       "  'portfolioDisplayMode': 2,\n",
       "  'portfolioNameNewline': 1,\n",
       "  'portfolioHoldingsDisplay': 1,\n",
       "  'portfolioIndexDisplay': 1,\n",
       "  'portfolioBulletin': 1,\n",
       "  'kdata': 1,\n",
       "  'refreshFrequency': 1,\n",
       "  'shock': 0,\n",
       "  'tickerPriceRemind': 1,\n",
       "  'orderDealRemind': 1,\n",
       "  'hotNews': 1,\n",
       "  'chartOption': 2,\n",
       "  'operateTime': '2021-02-22T10:07:51.000+0000',\n",
       "  'languageUpdateTime': '2021-02-22T10:07:51.000+0000',\n",
       "  'createTime': '2021-01-28T15:07:37.000+0000',\n",
       "  'updateTime': '2021-02-22T18:07:50.000+0000',\n",
       "  'listStyle': 1}}"
      ]
     },
     "execution_count": 51,
     "metadata": {},
     "output_type": "execute_result"
    }
   ],
   "source": [
    "login_info"
   ]
  },
  {
   "cell_type": "code",
   "execution_count": 38,
   "id": "everyday-success",
   "metadata": {},
   "outputs": [
    {
     "data": {
      "text/plain": [
       "{'msg': 'login failed.',\n",
       " 'traceId': '011dd4796b594da7b3e0189a5f5c2884',\n",
       " 'code': 'device.locked'}"
      ]
     },
     "execution_count": 38,
     "metadata": {},
     "output_type": "execute_result"
    }
   ],
   "source": [
    "wb.login('mcian91@hotmail.com', 'FgrtyewFgrtyew1!')"
   ]
  },
  {
   "cell_type": "code",
   "execution_count": 27,
   "id": "recognized-republic",
   "metadata": {},
   "outputs": [],
   "source": [
    "wb.login?"
   ]
  },
  {
   "cell_type": "code",
   "execution_count": 26,
   "id": "embedded-assurance",
   "metadata": {},
   "outputs": [
    {
     "name": "stdout",
     "output_type": "stream",
     "text": [
      "balls\n"
     ]
    }
   ],
   "source": [
    "temp = datetime.datetime.now()\n",
    "if temp:\n",
    "    print('balls')"
   ]
  },
  {
   "cell_type": "code",
   "execution_count": 17,
   "id": "suitable-administration",
   "metadata": {},
   "outputs": [
    {
     "name": "stdout",
     "output_type": "stream",
     "text": [
      "Current Time = 21:32:37\n"
     ]
    }
   ],
   "source": [
    "import datetime\n",
    "\n",
    "now = datetime.datetime.now()\n",
    "\n",
    "current_time = now.strftime(\"%H:%M:%S\")\n",
    "print(\"Current Time =\", current_time)"
   ]
  },
  {
   "cell_type": "code",
   "execution_count": 24,
   "id": "twenty-nancy",
   "metadata": {},
   "outputs": [
    {
     "data": {
      "text/plain": [
       "False"
      ]
     },
     "execution_count": 24,
     "metadata": {},
     "output_type": "execute_result"
    }
   ],
   "source": [
    "now + datetime.timedelta(minutes=31) - now > datetime.timedelta(minutes=32)"
   ]
  },
  {
   "cell_type": "code",
   "execution_count": 22,
   "id": "outer-signal",
   "metadata": {},
   "outputs": [
    {
     "data": {
      "text/plain": [
       "datetime.timedelta(seconds=1980)"
      ]
     },
     "execution_count": 22,
     "metadata": {},
     "output_type": "execute_result"
    }
   ],
   "source": [
    "datetime.timedelta(minutes=33)"
   ]
  },
  {
   "cell_type": "code",
   "execution_count": null,
   "id": "exciting-hartford",
   "metadata": {},
   "outputs": [],
   "source": []
  }
 ],
 "metadata": {
  "kernelspec": {
   "display_name": "Python 3",
   "language": "python",
   "name": "python3"
  },
  "language_info": {
   "codemirror_mode": {
    "name": "ipython",
    "version": 3
   },
   "file_extension": ".py",
   "mimetype": "text/x-python",
   "name": "python",
   "nbconvert_exporter": "python",
   "pygments_lexer": "ipython3",
   "version": "3.7.4"
  }
 },
 "nbformat": 4,
 "nbformat_minor": 5
}
