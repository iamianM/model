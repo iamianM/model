{
 "cells": [
  {
   "cell_type": "code",
   "execution_count": 1,
   "id": "instant-craps",
   "metadata": {},
   "outputs": [],
   "source": [
    "from webull import paper_webull, endpoints # for real money trading, just import 'webull' instead\n",
    "from webull.streamconn import StreamConn\n",
    "from day_trade import login_webull\n",
    "from torchvision.models import resnet50\n",
    "import torch\n",
    "import sched\n",
    "import matplotlib.pyplot as plt\n",
    "import mplfinance as fplt\n",
    "import time\n",
    "from PIL import Image\n",
    "from torchvision import datasets, transforms\n",
    "import json\n",
    "import pandas as pd"
   ]
  },
  {
   "cell_type": "code",
   "execution_count": 2,
   "id": "assumed-vampire",
   "metadata": {
    "scrolled": true
   },
   "outputs": [
    {
     "data": {
      "text/plain": [
       "('GeForce GTX 1070 Ti', True)"
      ]
     },
     "execution_count": 2,
     "metadata": {},
     "output_type": "execute_result"
    }
   ],
   "source": [
    "torch.cuda.get_device_name(0), torch.cuda.is_available()"
   ]
  },
  {
   "cell_type": "code",
   "execution_count": 4,
   "id": "rubber-western",
   "metadata": {},
   "outputs": [],
   "source": [
    "wb = login_webull('mcian91@email.com')"
   ]
  },
  {
   "cell_type": "code",
   "execution_count": 5,
   "id": "amended-shipping",
   "metadata": {},
   "outputs": [],
   "source": [
    "loginInfo = json.load(open('token.txt'))"
   ]
  },
  {
   "cell_type": "code",
   "execution_count": 3,
   "id": "minimal-roller",
   "metadata": {},
   "outputs": [
    {
     "data": {
      "text/plain": [
       "<All keys matched successfully>"
      ]
     },
     "execution_count": 3,
     "metadata": {},
     "output_type": "execute_result"
    }
   ],
   "source": [
    "model_res = resnet50(pretrained=False, num_classes=3)\n",
    "model_res.load_state_dict(torch.load('./dukascopy/model_res50.pth'))"
   ]
  },
  {
   "cell_type": "code",
   "execution_count": 6,
   "id": "innocent-referral",
   "metadata": {},
   "outputs": [],
   "source": [
    "if torch.cuda.is_available():\n",
    "    model_res = model_res.cuda()"
   ]
  },
  {
   "cell_type": "code",
   "execution_count": 7,
   "id": "three-spider",
   "metadata": {},
   "outputs": [],
   "source": [
    "hist = None\n",
    "support = 0\n",
    "resistance = 0\n",
    "enteredTrade = False\n",
    "s = sched.scheduler(time.time, time.sleep)"
   ]
  },
  {
   "cell_type": "code",
   "execution_count": 8,
   "id": "answering-socket",
   "metadata": {},
   "outputs": [],
   "source": [
    "TRANSFORM_IMG = transforms.Compose([\n",
    "    transforms.Resize((256,256)),\n",
    "    transforms.ToTensor()\n",
    "    ])"
   ]
  },
  {
   "cell_type": "code",
   "execution_count": 9,
   "id": "strategic-going",
   "metadata": {},
   "outputs": [],
   "source": [
    "#Draw Chart\n",
    "def drawChart(hist, update):\n",
    "    global support\n",
    "    global resistance\n",
    "    global symbol\n",
    "    try :\n",
    "        mc = fplt.make_marketcolors(\n",
    "            up='tab:blue',down='tab:red',\n",
    "            edge='black',\n",
    "            wick={'up':'blue','down':'red'},\n",
    "            volume='green', alpha=1.0\n",
    "        )\n",
    "        s  = fplt.make_mpf_style(marketcolors=mc, mavcolors=[\"yellow\",\"orange\",'brown'])\n",
    "        image_file = './live_graphs/'+ symbol + '_' + hist.index[-1].isoformat().replace(':', '-') +'.png'\n",
    "        fig = fplt.plot(\n",
    "            hist,\n",
    "            type='candle',\n",
    "            style=s,\n",
    "            volume=True,\n",
    "            axisoff=True,\n",
    "            mav=(5,8,13),\n",
    "            figsize=(3.2,3.2),\n",
    "            xlim=(12.5, 44.5),\n",
    "            savefig=image_file,\n",
    "            tight_layout=True\n",
    "        )\n",
    "        return image_file\n",
    "    except Exception as e:\n",
    "        print(e)\n",
    "#On Bar Update\n",
    "def run(sc):\n",
    "    global hist\n",
    "    global enteredTrade\n",
    "    global symbol\n",
    "    global s\n",
    "    hist = pd.DataFrame(hist)\n",
    "    try:\n",
    "        #Update chart with new data\n",
    "        hist = wb.get_bars(stock=symbol.upper(), interval='m1', count=44, extendTrading=0)\n",
    "        hist = pd.DataFrame(hist)\n",
    "        #call this method again every minute for new price changes\n",
    "        image_file = drawChart(hist, True)\n",
    "        img = Image.open(image_file).convert(\"RGB\")\n",
    "        outputs = model_res(TRANSFORM_IMG(img).reshape((1,3,256,256)).cuda())\n",
    "        probs = torch.nn.functional.softmax(outputs.data)[0].tolist()\n",
    "        _, preds = torch.max(outputs.data, 1)\n",
    "        label = preds[0].item()\n",
    "        if not enteredTrade and label == 0:\n",
    "            order = wb.place_order(stock=symbol.upper(), action='BUY', orderType='MKT', enforce='DAY', quant=1)\n",
    "            print(order)\n",
    "            enteredTrade = True\n",
    "        elif enteredTrade and label == 2:\n",
    "            order = wb.place_order(stock=symbol.upper(), action='SELL', orderType='MKT', enforce='DAY', quant=1)\n",
    "            print(order)\n",
    "            enteredTrade = False\n",
    "    except Exception as e:\n",
    "        print(str(e))\n",
    "    s.enter(60, 1, run, (sc,))\n",
    "    plt.pause(60)"
   ]
  },
  {
   "cell_type": "code",
   "execution_count": 12,
   "id": "recovered-adolescent",
   "metadata": {
    "scrolled": true
   },
   "outputs": [
    {
     "name": "stdout",
     "output_type": "stream",
     "text": [
      "say hello\n",
      "Interrupted\n"
     ]
    }
   ],
   "source": [
    "conn = StreamConn(debug_flg=False)\n",
    "if not loginInfo['accessToken'] is None and len(loginInfo['accessToken']) > 1:\n",
    "    conn.connect(loginInfo['uuid'], access_token=loginInfo['accessToken'])\n",
    "else:\n",
    "    conn.connect(wb.did)\n",
    "#Initiate our scheduler so we can keep checking every minute for new price changes\n",
    "s.enter(1, 1, run, (s,))\n",
    "def get_data():\n",
    "    global symbol\n",
    "    global hist\n",
    "    try:\n",
    "        #Symbol to trade\n",
    "        symbol = 'RKT'\n",
    "        hist = wb.get_bars(stock=symbol.upper(), interval='m1', count=44, extendTrading=0)\n",
    "        hist = pd.DataFrame(hist)\n",
    "        s.run()\n",
    "    except KeyboardInterrupt:\n",
    "        print('Interrupted')\n",
    "        pass\n",
    "    except Exception as e:\n",
    "        print(e)\n",
    "        get_data()\n",
    "get_data()"
   ]
  },
  {
   "cell_type": "code",
   "execution_count": null,
   "id": "split-upper",
   "metadata": {},
   "outputs": [],
   "source": []
  }
 ],
 "metadata": {
  "kernelspec": {
   "display_name": "Python 3",
   "language": "python",
   "name": "python3"
  },
  "language_info": {
   "codemirror_mode": {
    "name": "ipython",
    "version": 3
   },
   "file_extension": ".py",
   "mimetype": "text/x-python",
   "name": "python",
   "nbconvert_exporter": "python",
   "pygments_lexer": "ipython3",
   "version": "3.7.4"
  }
 },
 "nbformat": 4,
 "nbformat_minor": 5
}
