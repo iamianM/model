{
 "cells": [
  {
   "cell_type": "code",
   "execution_count": 80,
   "id": "legendary-sweet",
   "metadata": {},
   "outputs": [],
   "source": [
    "import pandas as pd\n",
    "import datetime\n",
    "import requests\n",
    "import io\n",
    "from day_trade import login_webull\n",
    "from scipy.signal import find_peaks\n",
    "import matplotlib\n",
    "import mplfinance as fplt\n",
    "import os\n",
    "from os import listdir\n",
    "from shutil import copyfile\n",
    "import random\n",
    "\n",
    "matplotlib.use('agg')"
   ]
  },
  {
   "cell_type": "code",
   "execution_count": 7,
   "id": "prospective-channel",
   "metadata": {},
   "outputs": [],
   "source": [
    "wb = login_webull('mcian91@email.com')"
   ]
  },
  {
   "cell_type": "code",
   "execution_count": 13,
   "id": "serious-connection",
   "metadata": {
    "scrolled": true
   },
   "outputs": [
    {
     "name": "stdout",
     "output_type": "stream",
     "text": [
      "swing_trade/Lizard Bullish-2021-02-02.csv\n",
      "AVDL\n",
      "BTG\n",
      "CXP\n",
      "OBLG\n",
      "swing_trade/Lizard Bullish-2021-02-03.csv\n",
      "NXGN\n",
      "TATT\n",
      "DSKE\n",
      "GIX\n",
      "swing_trade/Lizard Bullish-2021-02-04.csv\n",
      "VBLT\n",
      "DGNR\n",
      "swing_trade/Lizard Bullish-2021-02-09.csv\n",
      "ISUN\n",
      "LBRT\n",
      "swing_trade/Lizard Bullish-2021-02-10.csv\n",
      "UONE\n",
      "VTGN\n",
      "swing_trade/Lizard Bullish-2021-02-11.csv\n",
      "BTAQ\n",
      "FCAC\n",
      "swing_trade/Lizard Bullish-2021-02-16.csv\n",
      "swing_trade/Lizard Bullish-2021-02-17.csv\n",
      "ADTN\n",
      "DGLY\n",
      "OIIM\n",
      "ACER\n",
      "GNW\n",
      "MBI\n",
      "UGP\n",
      "DARE\n",
      "HCHC\n",
      "WTRH\n",
      "JNCE\n",
      "ARLO\n",
      "RSI\n",
      "FURY\n",
      "ROOT\n",
      "GMIIU\n",
      "swing_trade/Lizard Bullish-2021-02-18.csv\n",
      "SRGA\n",
      "MWA\n",
      "CFMS\n",
      "HTOO\n",
      "FLUX\n",
      "ACAC\n",
      "KRNLU\n"
     ]
    }
   ],
   "source": [
    "timeframe = '1'\n",
    "period = '1'\n",
    "date = pd.Timestamp('2021-02-02', tz='America/New_York')\n",
    "end_date = pd.Timestamp('2021-02-19', tz='America/New_York')\n",
    "hists = {}\n",
    "\n",
    "while date < end_date:\n",
    "    next_day = date + datetime.timedelta(hours=24)\n",
    "    next_date_str = next_day.isoformat()[:10]\n",
    "    csv_file = f'swing_trade/Lizard Bullish-{date.isoformat()[:10]}.csv'\n",
    "    print(csv_file)\n",
    "    stocks = pd.read_csv(csv_file)\n",
    "    for symbol in stocks['symbol']:\n",
    "        print(symbol)\n",
    "        filename = f'{symbol}_{next_date_str}'\n",
    "        try:\n",
    "            alpha_url = f\"https://www.alphavantage.co/query?function=TIME_SERIES_INTRADAY_EXTENDED&symbol={symbol}&interval=1min&slice=year1month1&apikey=M6HNQZFS7S470HMZ&datatype=csv\"\n",
    "            r = requests.get(alpha_url)\n",
    "            hist = pd.read_csv(io.StringIO(r.content.decode('utf-8')))\n",
    "            hist['time'] = pd.to_datetime(hist['time'])\n",
    "            hist = hist[[next_date_str in time for time in hist['time']]].sort_values('time').set_index('time')\n",
    "        except KeyError:\n",
    "            try:\n",
    "                hist = wb.get_bars(stock=symbol.upper(), interval='m'+timeframe, count=int((390*int(period))/int(timeframe)), \n",
    "                                   extendTrading=0, timeStamp=int((next_day + datetime.timedelta(hours=24)).timestamp()))\n",
    "            except ValueError:\n",
    "                print(f\"Couldn't find {symbol}\")\n",
    "            hist = pd.DataFrame(hist)\n",
    "            hist = hist[[next_date_str in idx.isoformat() for idx in hist.index]]\n",
    "            \n",
    "        peaks, peak_prop = find_peaks(hist['close'], width=1, prominence=(0.02, None))\n",
    "        valleys, valley_prop = find_peaks(hist['close']*(-1), width=2.5, prominence=(0.05, None), plateau_size=(0,1))\n",
    "        hist['label'] = ['sell' if idx in peaks else 'buy' if idx in valleys else 'nothing' for idx in range(len(hist))]\n",
    "        hist.to_csv(f'daily_stock_data/{filename}.csv')\n",
    "        hists[filename] = hist\n",
    "        \n",
    "    if date.day_of_week in range(1,3):\n",
    "        date += datetime.timedelta(hours=24)\n",
    "    elif date.day_of_week == 3:\n",
    "        date += datetime.timedelta(hours=24*5)\n",
    "    else:\n",
    "        print(\"shouldn't be here\")\n",
    "        break"
   ]
  },
  {
   "cell_type": "code",
   "execution_count": null,
   "id": "arctic-amazon",
   "metadata": {},
   "outputs": [],
   "source": [
    "for f, hist in hists.items():\n",
    "    hist.to_csv(f'./day_trader_bot/daily_stock_data/{f}.csv')"
   ]
  },
  {
   "cell_type": "code",
   "execution_count": 17,
   "id": "random-envelope",
   "metadata": {},
   "outputs": [],
   "source": [
    "hists = {}\n",
    "path = './daily_stock_data/'\n",
    "for file in [f for f in listdir(path) if f.endswith('.csv')]:\n",
    "    try:\n",
    "        hists[file[:-4]] = pd.read_csv(path+file, index_col='timestamp')\n",
    "        hists[file[:-4]].index = pd.to_datetime(hists[file[:-4]].index)\n",
    "    except:\n",
    "        try:\n",
    "            hists[file[:-4]] = pd.read_csv(path+file, index_col='time')\n",
    "            hists[file[:-4]].index = pd.to_datetime(hists[file[:-4]].index)\n",
    "        except:\n",
    "            pass"
   ]
  },
  {
   "cell_type": "code",
   "execution_count": 119,
   "id": "affecting-professor",
   "metadata": {
    "scrolled": false
   },
   "outputs": [],
   "source": [
    "mc = fplt.make_marketcolors(\n",
    "                        up='tab:blue',down='tab:red',\n",
    "                        edge='black',\n",
    "                        wick={'up':'blue','down':'red'},\n",
    "                        volume='green',\n",
    "                       )\n",
    "\n",
    "s  = fplt.make_mpf_style(marketcolors=mc, mavcolors=[\"yellow\",\"orange\",'brown'])\n",
    "\n",
    "hist = hists['ACAC_2021-02-19']\n",
    "i = 38\n",
    "fig = fplt.plot(\n",
    "    hist.iloc[i:i+45],\n",
    "    type='candle',\n",
    "    style=s,\n",
    "    volume=True,\n",
    "    axisoff=True,\n",
    "    mav=(5,8,13),\n",
    "    figsize=(3.2,3.2),\n",
    "    xlim=(13, 45),\n",
    "    savefig=f'./stock_graphs/test.jpeg',\n",
    "    returnfig=True,\n",
    "    tight_layout=True\n",
    ")"
   ]
  },
  {
   "cell_type": "code",
   "execution_count": 120,
   "id": "committed-administrator",
   "metadata": {},
   "outputs": [
    {
     "data": {
      "image/png": "[encoded data removed]",
      "text/plain": [
       "<Figure size 320x320 with 4 Axes>"
      ]
     },
     "execution_count": 120,
     "metadata": {},
     "output_type": "execute_result"
    }
   ],
   "source": [
    "fig[0]"
   ]
  },
  {
   "cell_type": "code",
   "execution_count": 121,
   "id": "ranking-ability",
   "metadata": {},
   "outputs": [
    {
     "data": {
      "text/plain": [
       "<matplotlib.image.AxesImage at 0x27a08191ec8>"
      ]
     },
     "execution_count": 121,
     "metadata": {},
     "output_type": "execute_result"
    },
    {
     "data": {
      "image/png": "[encoded data removed]",
      "text/plain": [
       "<Figure size 640x480 with 1 Axes>"
      ]
     },
     "metadata": {},
     "output_type": "display_data"
    }
   ],
   "source": [
    "from matplotlib import image\n",
    "from matplotlib import pyplot as plt\n",
    "i = image.imread(f'stock_graphs/test.jpeg')\n",
    "plt.imshow(i)"
   ]
  },
  {
   "cell_type": "code",
   "execution_count": 69,
   "id": "seeing-escape",
   "metadata": {},
   "outputs": [
    {
     "data": {
      "text/plain": [
       "(320, 320, 3)"
      ]
     },
     "execution_count": 69,
     "metadata": {},
     "output_type": "execute_result"
    }
   ],
   "source": [
    "i.shape"
   ]
  },
  {
   "cell_type": "code",
   "execution_count": 78,
   "id": "proved-consciousness",
   "metadata": {
    "scrolled": true
   },
   "outputs": [
    {
     "name": "stdout",
     "output_type": "stream",
     "text": [
      "ACAC_2021-02-19\n",
      "ACER_2021-02-18\n",
      "ADTN_2021-02-18\n",
      "ARLO_2021-02-18\n",
      "AUPH_2021-02-05\n",
      "AVDL_2021-02-03\n",
      "BTAQ_2021-02-12\n",
      "BTG_2021-02-03\n",
      "CFMS_2021-02-19\n",
      "CXP_2021-02-03\n",
      "DARE_2021-02-18\n",
      "DGLY_2021-02-18\n",
      "DGNR_2021-02-05\n",
      "DSKE_2021-02-04\n",
      "FCAC_2021-02-12\n",
      "FLUX_2021-02-19\n",
      "FURY_2021-02-18\n",
      "GIX_2021-02-04\n",
      "GMIIU_2021-02-18\n"
     ]
    },
    {
     "name": "stderr",
     "output_type": "stream",
     "text": [
      "c:\\users\\mcian\\appdata\\local\\programs\\python\\python37\\lib\\site-packages\\mplfinance\\plotting.py:421: UserWarning: Attempting to set identical bottom == top == 11.05 results in singular transformations; automatically expanding.\n",
      "  axA1.set_ylim(config['ylim'][0], config['ylim'][1])\n",
      "c:\\users\\mcian\\appdata\\local\\programs\\python\\python37\\lib\\site-packages\\mplfinance\\plotting.py:421: UserWarning: Attempting to set identical bottom == top == 11.05 results in singular transformations; automatically expanding.\n",
      "  axA1.set_ylim(config['ylim'][0], config['ylim'][1])\n",
      "c:\\users\\mcian\\appdata\\local\\programs\\python\\python37\\lib\\site-packages\\mplfinance\\plotting.py:421: UserWarning: Attempting to set identical bottom == top == 11.05 results in singular transformations; automatically expanding.\n",
      "  axA1.set_ylim(config['ylim'][0], config['ylim'][1])\n",
      "c:\\users\\mcian\\appdata\\local\\programs\\python\\python37\\lib\\site-packages\\mplfinance\\plotting.py:421: UserWarning: Attempting to set identical bottom == top == 11.05 results in singular transformations; automatically expanding.\n",
      "  axA1.set_ylim(config['ylim'][0], config['ylim'][1])\n"
     ]
    },
    {
     "name": "stdout",
     "output_type": "stream",
     "text": [
      "GNW_2021-02-18\n",
      "GXGX_2021-02-12\n",
      "HCHC_2021-02-18\n",
      "HTOO_2021-02-19\n",
      "ISUN_2021-02-10\n",
      "JNCE_2021-02-18\n",
      "KRNLU_2021-02-19\n"
     ]
    },
    {
     "name": "stderr",
     "output_type": "stream",
     "text": [
      "c:\\users\\mcian\\appdata\\local\\programs\\python\\python37\\lib\\site-packages\\mplfinance\\plotting.py:421: UserWarning: Attempting to set identical bottom == top == 10.45 results in singular transformations; automatically expanding.\n",
      "  axA1.set_ylim(config['ylim'][0], config['ylim'][1])\n",
      "c:\\users\\mcian\\appdata\\local\\programs\\python\\python37\\lib\\site-packages\\mplfinance\\plotting.py:421: UserWarning: Attempting to set identical bottom == top == 10.45 results in singular transformations; automatically expanding.\n",
      "  axA1.set_ylim(config['ylim'][0], config['ylim'][1])\n",
      "c:\\users\\mcian\\appdata\\local\\programs\\python\\python37\\lib\\site-packages\\mplfinance\\plotting.py:421: UserWarning: Attempting to set identical bottom == top == 10.45 results in singular transformations; automatically expanding.\n",
      "  axA1.set_ylim(config['ylim'][0], config['ylim'][1])\n",
      "c:\\users\\mcian\\appdata\\local\\programs\\python\\python37\\lib\\site-packages\\mplfinance\\plotting.py:421: UserWarning: Attempting to set identical bottom == top == 10.45 results in singular transformations; automatically expanding.\n",
      "  axA1.set_ylim(config['ylim'][0], config['ylim'][1])\n",
      "c:\\users\\mcian\\appdata\\local\\programs\\python\\python37\\lib\\site-packages\\mplfinance\\plotting.py:421: UserWarning: Attempting to set identical bottom == top == 10.45 results in singular transformations; automatically expanding.\n",
      "  axA1.set_ylim(config['ylim'][0], config['ylim'][1])\n",
      "c:\\users\\mcian\\appdata\\local\\programs\\python\\python37\\lib\\site-packages\\mplfinance\\plotting.py:421: UserWarning: Attempting to set identical bottom == top == 10.45 results in singular transformations; automatically expanding.\n",
      "  axA1.set_ylim(config['ylim'][0], config['ylim'][1])\n",
      "c:\\users\\mcian\\appdata\\local\\programs\\python\\python37\\lib\\site-packages\\mplfinance\\plotting.py:421: UserWarning: Attempting to set identical bottom == top == 10.45 results in singular transformations; automatically expanding.\n",
      "  axA1.set_ylim(config['ylim'][0], config['ylim'][1])\n",
      "c:\\users\\mcian\\appdata\\local\\programs\\python\\python37\\lib\\site-packages\\mplfinance\\plotting.py:421: UserWarning: Attempting to set identical bottom == top == 10.45 results in singular transformations; automatically expanding.\n",
      "  axA1.set_ylim(config['ylim'][0], config['ylim'][1])\n",
      "c:\\users\\mcian\\appdata\\local\\programs\\python\\python37\\lib\\site-packages\\mplfinance\\plotting.py:421: UserWarning: Attempting to set identical bottom == top == 10.45 results in singular transformations; automatically expanding.\n",
      "  axA1.set_ylim(config['ylim'][0], config['ylim'][1])\n",
      "c:\\users\\mcian\\appdata\\local\\programs\\python\\python37\\lib\\site-packages\\mplfinance\\plotting.py:421: UserWarning: Attempting to set identical bottom == top == 10.45 results in singular transformations; automatically expanding.\n",
      "  axA1.set_ylim(config['ylim'][0], config['ylim'][1])\n",
      "c:\\users\\mcian\\appdata\\local\\programs\\python\\python37\\lib\\site-packages\\mplfinance\\plotting.py:421: UserWarning: Attempting to set identical bottom == top == 10.45 results in singular transformations; automatically expanding.\n",
      "  axA1.set_ylim(config['ylim'][0], config['ylim'][1])\n"
     ]
    },
    {
     "name": "stdout",
     "output_type": "stream",
     "text": [
      "LBRT_2021-02-10\n",
      "MBI_2021-02-18\n",
      "MWA_2021-02-19\n",
      "NXGN_2021-02-04\n",
      "OBLG_2021-02-03\n",
      "OIIM_2021-02-18\n",
      "ROOT_2021-02-18\n",
      "RSI_2021-02-18\n",
      "SRGA_2021-02-19\n",
      "TATT_2021-02-04\n",
      "UGP_2021-02-18\n",
      "UONE_2021-02-11\n",
      "VBLT_2021-02-05\n",
      "VTGN_2021-02-11\n",
      "WTRH_2021-02-18\n"
     ]
    }
   ],
   "source": [
    "mc = fplt.make_marketcolors(\n",
    "                        up='tab:blue',down='tab:red',\n",
    "                        edge='black',\n",
    "                        wick={'up':'blue','down':'red'},\n",
    "                        volume='green',\n",
    "                       )\n",
    "\n",
    "s  = fplt.make_mpf_style(marketcolors=mc, mavcolors=[\"yellow\",\"orange\",'brown'])\n",
    "\n",
    "for filename, hist in hists.items():\n",
    "    print(filename)\n",
    "    if not os.path.exists(f'./stock_graphs/{filename}/'):\n",
    "        os.makedirs(f'./stock_graphs/{filename}/')\n",
    "    for i in range(13,len(hist)-45):\n",
    "        fplt.plot(\n",
    "            hist.iloc[i:i+45],\n",
    "            type='candle',\n",
    "            style=s,\n",
    "            volume=True,\n",
    "            axisoff=True,\n",
    "            mav=(5,8,13),\n",
    "            figsize=(3.2,3.2),\n",
    "            xlim=(13, 45),\n",
    "            savefig=f'./stock_graphs/{filename}/{filename}_{i}.jpeg',\n",
    "            tight_layout=True\n",
    "        )"
   ]
  },
  {
   "cell_type": "code",
   "execution_count": 90,
   "id": "equipped-adams",
   "metadata": {},
   "outputs": [
    {
     "data": {
      "text/plain": [
       "nothing    271\n",
       "sell        15\n",
       "buy          3\n",
       "Name: label, dtype: int64"
      ]
     },
     "execution_count": 90,
     "metadata": {},
     "output_type": "execute_result"
    }
   ],
   "source": [
    "hist['label'].value_counts()"
   ]
  },
  {
   "cell_type": "code",
   "execution_count": 95,
   "id": "surprising-celebration",
   "metadata": {
    "scrolled": true
   },
   "outputs": [
    {
     "name": "stdout",
     "output_type": "stream",
     "text": [
      "ACAC_2021-02-19\n",
      "ACER_2021-02-18\n",
      "ADTN_2021-02-18\n",
      "ARLO_2021-02-18\n",
      "AUPH_2021-02-05\n",
      "AVDL_2021-02-03\n",
      "BTAQ_2021-02-12\n",
      "BTG_2021-02-03\n",
      "CFMS_2021-02-19\n",
      "CXP_2021-02-03\n",
      "DARE_2021-02-18\n",
      "DGLY_2021-02-18\n",
      "DGNR_2021-02-05\n",
      "DSKE_2021-02-04\n",
      "FCAC_2021-02-12\n",
      "FLUX_2021-02-19\n",
      "FURY_2021-02-18\n",
      "GIX_2021-02-04\n",
      "GMIIU_2021-02-18\n",
      "GNW_2021-02-18\n",
      "GXGX_2021-02-12\n",
      "HCHC_2021-02-18\n",
      "HTOO_2021-02-19\n",
      "ISUN_2021-02-10\n",
      "JNCE_2021-02-18\n",
      "KRNLU_2021-02-19\n",
      "LBRT_2021-02-10\n",
      "MBI_2021-02-18\n",
      "MWA_2021-02-19\n",
      "NXGN_2021-02-04\n",
      "OBLG_2021-02-03\n",
      "OIIM_2021-02-18\n",
      "ROOT_2021-02-18\n",
      "RSI_2021-02-18\n",
      "SRGA_2021-02-19\n",
      "TATT_2021-02-04\n",
      "UGP_2021-02-18\n",
      "UONE_2021-02-11\n",
      "VBLT_2021-02-05\n",
      "VTGN_2021-02-11\n",
      "WTRH_2021-02-18\n"
     ]
    }
   ],
   "source": [
    "counts = {}\n",
    "for filename, hist in hists.items():\n",
    "    print(filename)\n",
    "    for i in range(13,len(hist)-45):\n",
    "        f = f'./stock_graphs/{filename}/{filename}_{i}.jpeg'\n",
    "        try:\n",
    "            if image.imread(f).shape != (320, 320, 3):\n",
    "                os.remove(f)\n",
    "                continue\n",
    "        except:\n",
    "            continue\n",
    "        label = hist.iloc[i+45-1]['label']\n",
    "        date = filename.split('_')[1]\n",
    "        if date == '2021-02-19':\n",
    "            folder = 'test'\n",
    "            if not os.path.exists(f'./stock_graphs/{folder}/'):\n",
    "                os.makedirs(f'./stock_graphs/{folder}/')\n",
    "            for b in ['buy', 'sell', 'nothing']:\n",
    "                if not os.path.exists(f'./stock_graphs/{folder}/{b}/'):\n",
    "                    os.makedirs(f'./stock_graphs/{folder}/{b}/')\n",
    "        elif random.uniform(0, 1) < 0.2:\n",
    "            folder = 'val'\n",
    "            if not os.path.exists(f'./stock_graphs/{folder}/'):\n",
    "                os.makedirs(f'./stock_graphs/{folder}/')\n",
    "            for b in ['buy', 'sell', 'nothing']:\n",
    "                if not os.path.exists(f'./stock_graphs/{folder}/{b}/'):\n",
    "                    os.makedirs(f'./stock_graphs/{folder}/{b}/')\n",
    "        else:\n",
    "            folder = 'train'\n",
    "            if not os.path.exists(f'./stock_graphs/{folder}/'):\n",
    "                os.makedirs(f'./stock_graphs/{folder}/')\n",
    "            for b in ['buy', 'sell', 'nothing']:\n",
    "                if not os.path.exists(f'./stock_graphs/{folder}/{b}/'):\n",
    "                    os.makedirs(f'./stock_graphs/{folder}/{b}/')\n",
    "                    \n",
    "        try:\n",
    "            copyfile(f, f'./stock_graphs/{folder}/{label}/{filename}_{i}.jpeg')\n",
    "        except Exception as e:\n",
    "            print(e)\n",
    "            \n",
    "    counts[folder] = hist.iloc[13:-45]['label'].value_counts()"
   ]
  },
  {
   "cell_type": "code",
   "execution_count": 96,
   "id": "ruled-engineering",
   "metadata": {},
   "outputs": [
    {
     "data": {
      "text/plain": [
       "{'test': Series([], Name: label, dtype: int64),\n",
       " 'train': nothing    217\n",
       " sell        12\n",
       " buy          2\n",
       " Name: label, dtype: int64,\n",
       " 'val': nothing    104\n",
       " sell         4\n",
       " buy          1\n",
       " Name: label, dtype: int64}"
      ]
     },
     "execution_count": 96,
     "metadata": {},
     "output_type": "execute_result"
    }
   ],
   "source": [
    "counts"
   ]
  },
  {
   "cell_type": "code",
   "execution_count": null,
   "id": "sticky-identifier",
   "metadata": {},
   "outputs": [],
   "source": [
    "for t in ['train', 'test']:\n",
    "    for p in ['buy', 'sell', 'nothing']:\n",
    "        path = f'stock_graphs/train/{p}/'\n",
    "        for file in [f for f in listdir(path)]:\n",
    "            train_x.append(image.imread(path+file))\n",
    "            train_y.append(p)"
   ]
  }
 ],
 "metadata": {
  "kernelspec": {
   "display_name": "Python 3",
   "language": "python",
   "name": "python3"
  },
  "language_info": {
   "codemirror_mode": {
    "name": "ipython",
    "version": 3
   },
   "file_extension": ".py",
   "mimetype": "text/x-python",
   "name": "python",
   "nbconvert_exporter": "python",
   "pygments_lexer": "ipython3",
   "version": "3.7.4"
  }
 },
 "nbformat": 4,
 "nbformat_minor": 5
}
